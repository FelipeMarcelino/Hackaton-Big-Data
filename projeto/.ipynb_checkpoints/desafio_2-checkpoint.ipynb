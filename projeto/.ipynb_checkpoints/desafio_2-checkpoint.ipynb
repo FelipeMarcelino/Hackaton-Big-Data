{
 "cells": [
  {
   "cell_type": "markdown",
   "metadata": {},
   "source": [
    "## Modelagem\n",
    "\n",
    "A modelagem é parecida com a do desafio anteior, no entanto sem utilizar os dados de 2016 no treino, somente os dados de 2017 por ser mais próximo do ano seguinte. Além disso o modelo só utilizou os meses de jan,fev e mar para treinamento dos modelo, já que o comportamento entre os anos, através dos dados feitos no notebook de exploração, mostr um comportamento sazonal e bem próximo no dado um mesmo período de tempo. \n",
    "\n",
    "Para as features categóricas foi utilizado o método one-hot-encoder. \n",
    "\n",
    "* removed_nan = all_data.dropna(0,subset=[\"2017_1\"]) - Remove os labels NaN de acordo com o mês. Aplicado para fev e mar também\n",
    "* X['População total 2017'] = X['População total 2017'].astype(float) - Transform a população em float e coloca NaN naqueles campos que não possuem dados. \n",
    "* Métrica: neg_root_mean_squared \n",
    "* Três tipos de modelos\n",
    "    * Somente com meses\n",
    "    * Meses + metadados da loja + população\n",
    "    * Meses + metadados da loja + população +  (IDHM, PIP)"
   ]
  },
  {
   "cell_type": "code",
   "execution_count": 142,
   "metadata": {
    "id": "dr3BuUZ9j6-n"
   },
   "outputs": [],
   "source": [
    "#imports\n",
    "import pandas as pd\n",
    "import numpy as np\n",
    "import sklearn\n",
    "import matplotlib.pyplot as plt\n",
    "import sys\n",
    "import seaborn as sns\n",
    "import re\n",
    "sns.set_style('darkgrid')\n",
    "\n",
    "import xgboost\n",
    "from sklearn.model_selection import train_test_split,cross_val_score, KFold\n",
    "from sklearn.metrics import accuracy_score,mean_squared_error\n",
    "from sklearn.preprocessing import OrdinalEncoder, OneHotEncoder\n",
    "from sklearn.metrics import mean_squared_error\n",
    "from sklearn import linear_model\n",
    "from sklearn import tree\n",
    "from xgboost import plot_importance\n",
    "from sklearn.model_selection import RandomizedSearchCV\n",
    "\n",
    "\n",
    "def display_scores(scores):\n",
    "    print(\"Scores:\", scores)\n",
    "    print(\"Mean:\", scores.mean())\n",
    "    print(\"Standard deviation:\", scores.std())"
   ]
  },
  {
   "cell_type": "code",
   "execution_count": 143,
   "metadata": {
    "id": "ZaOqnNZAkj1v"
   },
   "outputs": [],
   "source": [
    "cenarios = pd.read_csv('./data/cenarios_expansao.csv')\n",
    "\n",
    "faturamento = pd.read_csv('./data/faturamento_lojas_atuais.csv')\n",
    "\n",
    "lojas = pd.read_csv('./data/lojas_atuais.csv')\n",
    "\n",
    "idh_capita = pd.read_excel('./data/AtlasBrasil_Consulta.xlsx')\n",
    "\n",
    "municipio = pd.read_excel('./data/populacao_2017.xlsx')"
   ]
  },
  {
   "cell_type": "code",
   "execution_count": 144,
   "metadata": {
    "colab": {
     "base_uri": "https://localhost:8080/",
     "height": 204
    },
    "id": "FxFTATC5ln5v",
    "outputId": "f9de4ed7-022e-4209-b723-c161bcaf5d19"
   },
   "outputs": [
    {
     "data": {
      "text/html": [
       "<div>\n",
       "<style scoped>\n",
       "    .dataframe tbody tr th:only-of-type {\n",
       "        vertical-align: middle;\n",
       "    }\n",
       "\n",
       "    .dataframe tbody tr th {\n",
       "        vertical-align: top;\n",
       "    }\n",
       "\n",
       "    .dataframe thead th {\n",
       "        text-align: right;\n",
       "    }\n",
       "</style>\n",
       "<table border=\"1\" class=\"dataframe\">\n",
       "  <thead>\n",
       "    <tr style=\"text-align: right;\">\n",
       "      <th></th>\n",
       "      <th>Código</th>\n",
       "      <th>Espacialidades</th>\n",
       "      <th>IDHM 2010</th>\n",
       "      <th>IDHM Renda 2010</th>\n",
       "      <th>IDHM Longevidade 2010</th>\n",
       "      <th>Renda per capita 2010</th>\n",
       "    </tr>\n",
       "  </thead>\n",
       "  <tbody>\n",
       "    <tr>\n",
       "      <th>0</th>\n",
       "      <td>76</td>\n",
       "      <td>Brasil</td>\n",
       "      <td>0.727</td>\n",
       "      <td>0.739</td>\n",
       "      <td>0.816</td>\n",
       "      <td>793.87</td>\n",
       "    </tr>\n",
       "    <tr>\n",
       "      <th>1</th>\n",
       "      <td>5200050</td>\n",
       "      <td>Abadia de Goiás</td>\n",
       "      <td>0.708</td>\n",
       "      <td>0.687</td>\n",
       "      <td>0.830</td>\n",
       "      <td>574.96</td>\n",
       "    </tr>\n",
       "    <tr>\n",
       "      <th>2</th>\n",
       "      <td>3100104</td>\n",
       "      <td>Abadia dos Dourados</td>\n",
       "      <td>0.689</td>\n",
       "      <td>0.693</td>\n",
       "      <td>0.839</td>\n",
       "      <td>596.18</td>\n",
       "    </tr>\n",
       "    <tr>\n",
       "      <th>3</th>\n",
       "      <td>5200100</td>\n",
       "      <td>Abadiânia</td>\n",
       "      <td>0.689</td>\n",
       "      <td>0.671</td>\n",
       "      <td>0.841</td>\n",
       "      <td>519.87</td>\n",
       "    </tr>\n",
       "    <tr>\n",
       "      <th>4</th>\n",
       "      <td>3100203</td>\n",
       "      <td>Abaeté</td>\n",
       "      <td>0.698</td>\n",
       "      <td>0.720</td>\n",
       "      <td>0.848</td>\n",
       "      <td>707.24</td>\n",
       "    </tr>\n",
       "  </tbody>\n",
       "</table>\n",
       "</div>"
      ],
      "text/plain": [
       "    Código       Espacialidades  IDHM 2010  IDHM Renda 2010  \\\n",
       "0       76               Brasil      0.727            0.739   \n",
       "1  5200050      Abadia de Goiás      0.708            0.687   \n",
       "2  3100104  Abadia dos Dourados      0.689            0.693   \n",
       "3  5200100            Abadiânia      0.689            0.671   \n",
       "4  3100203               Abaeté      0.698            0.720   \n",
       "\n",
       "   IDHM Longevidade 2010  Renda per capita 2010  \n",
       "0                  0.816                 793.87  \n",
       "1                  0.830                 574.96  \n",
       "2                  0.839                 596.18  \n",
       "3                  0.841                 519.87  \n",
       "4                  0.848                 707.24  "
      ]
     },
     "execution_count": 144,
     "metadata": {},
     "output_type": "execute_result"
    }
   ],
   "source": [
    "idh_capita.head()"
   ]
  },
  {
   "cell_type": "code",
   "execution_count": 145,
   "metadata": {
    "colab": {
     "base_uri": "https://localhost:8080/",
     "height": 204
    },
    "id": "BKsOo0Xsl7p1",
    "outputId": "45abd9e9-4f19-4f93-d82d-c22a858f7291"
   },
   "outputs": [
    {
     "data": {
      "text/html": [
       "<div>\n",
       "<style scoped>\n",
       "    .dataframe tbody tr th:only-of-type {\n",
       "        vertical-align: middle;\n",
       "    }\n",
       "\n",
       "    .dataframe tbody tr th {\n",
       "        vertical-align: top;\n",
       "    }\n",
       "\n",
       "    .dataframe thead th {\n",
       "        text-align: right;\n",
       "    }\n",
       "</style>\n",
       "<table border=\"1\" class=\"dataframe\">\n",
       "  <thead>\n",
       "    <tr style=\"text-align: right;\">\n",
       "      <th></th>\n",
       "      <th>Territorialidades</th>\n",
       "      <th>População total 2017</th>\n",
       "    </tr>\n",
       "  </thead>\n",
       "  <tbody>\n",
       "    <tr>\n",
       "      <th>0</th>\n",
       "      <td>Brasil</td>\n",
       "      <td>207660929</td>\n",
       "    </tr>\n",
       "    <tr>\n",
       "      <th>1</th>\n",
       "      <td>Abadia de Goiás (GO)</td>\n",
       "      <td>8207</td>\n",
       "    </tr>\n",
       "    <tr>\n",
       "      <th>2</th>\n",
       "      <td>Abadia dos Dourados (MG)</td>\n",
       "      <td>7059</td>\n",
       "    </tr>\n",
       "    <tr>\n",
       "      <th>3</th>\n",
       "      <td>Abadiânia (GO)</td>\n",
       "      <td>18775</td>\n",
       "    </tr>\n",
       "    <tr>\n",
       "      <th>4</th>\n",
       "      <td>Abaeté (MG)</td>\n",
       "      <td>23611</td>\n",
       "    </tr>\n",
       "  </tbody>\n",
       "</table>\n",
       "</div>"
      ],
      "text/plain": [
       "          Territorialidades População total 2017\n",
       "0                    Brasil            207660929\n",
       "1      Abadia de Goiás (GO)                 8207\n",
       "2  Abadia dos Dourados (MG)                 7059\n",
       "3            Abadiânia (GO)                18775\n",
       "4               Abaeté (MG)                23611"
      ]
     },
     "execution_count": 145,
     "metadata": {},
     "output_type": "execute_result"
    }
   ],
   "source": [
    "municipio.head()"
   ]
  },
  {
   "cell_type": "code",
   "execution_count": 146,
   "metadata": {
    "id": "bj2J0Zjxl9ef"
   },
   "outputs": [],
   "source": [
    "def remove_state(string_data):\n",
    "  return (re.sub(\" \\([^)]*\\)\", \"\",string_data))"
   ]
  },
  {
   "cell_type": "code",
   "execution_count": 147,
   "metadata": {
    "colab": {
     "base_uri": "https://localhost:8080/",
     "height": 204
    },
    "id": "zwhyLUAHnd-a",
    "outputId": "31833395-e81a-420a-bfcb-cc2e0286f4b4"
   },
   "outputs": [
    {
     "data": {
      "text/html": [
       "<div>\n",
       "<style scoped>\n",
       "    .dataframe tbody tr th:only-of-type {\n",
       "        vertical-align: middle;\n",
       "    }\n",
       "\n",
       "    .dataframe tbody tr th {\n",
       "        vertical-align: top;\n",
       "    }\n",
       "\n",
       "    .dataframe thead th {\n",
       "        text-align: right;\n",
       "    }\n",
       "</style>\n",
       "<table border=\"1\" class=\"dataframe\">\n",
       "  <thead>\n",
       "    <tr style=\"text-align: right;\">\n",
       "      <th></th>\n",
       "      <th>Territorialidades</th>\n",
       "      <th>População total 2017</th>\n",
       "    </tr>\n",
       "  </thead>\n",
       "  <tbody>\n",
       "    <tr>\n",
       "      <th>0</th>\n",
       "      <td>Brasil</td>\n",
       "      <td>207660929</td>\n",
       "    </tr>\n",
       "    <tr>\n",
       "      <th>1</th>\n",
       "      <td>Abadia de Goiás</td>\n",
       "      <td>8207</td>\n",
       "    </tr>\n",
       "    <tr>\n",
       "      <th>2</th>\n",
       "      <td>Abadia dos Dourados</td>\n",
       "      <td>7059</td>\n",
       "    </tr>\n",
       "    <tr>\n",
       "      <th>3</th>\n",
       "      <td>Abadiânia</td>\n",
       "      <td>18775</td>\n",
       "    </tr>\n",
       "    <tr>\n",
       "      <th>4</th>\n",
       "      <td>Abaeté</td>\n",
       "      <td>23611</td>\n",
       "    </tr>\n",
       "  </tbody>\n",
       "</table>\n",
       "</div>"
      ],
      "text/plain": [
       "     Territorialidades População total 2017\n",
       "0               Brasil            207660929\n",
       "1      Abadia de Goiás                 8207\n",
       "2  Abadia dos Dourados                 7059\n",
       "3            Abadiânia                18775\n",
       "4               Abaeté                23611"
      ]
     },
     "execution_count": 147,
     "metadata": {},
     "output_type": "execute_result"
    }
   ],
   "source": [
    "municipio[\"Territorialidades\"] = municipio[\"Territorialidades\"].apply(lambda x: remove_state(x))\n",
    "municipio.head()"
   ]
  },
  {
   "cell_type": "code",
   "execution_count": 148,
   "metadata": {
    "colab": {
     "base_uri": "https://localhost:8080/"
    },
    "id": "U9ib1B-z0jGf",
    "outputId": "450dded2-e997-4255-ec41-e9de0613dce3"
   },
   "outputs": [
    {
     "name": "stdout",
     "output_type": "stream",
     "text": [
      "                                         Espacialidades População total 2017\n",
      "0                                                Brasil            207660929\n",
      "1                                       Abadia de Goiás                 8207\n",
      "2                                   Abadia dos Dourados                 7059\n",
      "3                                             Abadiânia                18775\n",
      "4                                                Abaeté                23611\n",
      "...                                                 ...                  ...\n",
      "5563                                            Zé Doca                51084\n",
      "5564                                             Zortéa                 3300\n",
      "5565                                                                        \n",
      "5566  Elaboração: Atlas do Desenvolvimento Humano no...                  NaN\n",
      "5567  Fontes: dados do IBGE e de registros administr...                  NaN\n",
      "\n",
      "[5568 rows x 2 columns]\n"
     ]
    }
   ],
   "source": [
    "municipio.columns = [\"Espacialidades\",\"População total 2017\"]\n",
    "print(municipio)"
   ]
  },
  {
   "cell_type": "code",
   "execution_count": 149,
   "metadata": {
    "id": "vZCGdB0J5mDv"
   },
   "outputs": [],
   "source": [
    "municipio  = municipio.drop_duplicates(subset=[\"Espacialidades\"], keep=\"last\")"
   ]
  },
  {
   "cell_type": "code",
   "execution_count": 150,
   "metadata": {
    "colab": {
     "base_uri": "https://localhost:8080/",
     "height": 204
    },
    "id": "V0h7s7Ekzgyb",
    "outputId": "f45dd2e4-3073-44fb-c527-e8293c768801"
   },
   "outputs": [
    {
     "data": {
      "text/html": [
       "<div>\n",
       "<style scoped>\n",
       "    .dataframe tbody tr th:only-of-type {\n",
       "        vertical-align: middle;\n",
       "    }\n",
       "\n",
       "    .dataframe tbody tr th {\n",
       "        vertical-align: top;\n",
       "    }\n",
       "\n",
       "    .dataframe thead th {\n",
       "        text-align: right;\n",
       "    }\n",
       "</style>\n",
       "<table border=\"1\" class=\"dataframe\">\n",
       "  <thead>\n",
       "    <tr style=\"text-align: right;\">\n",
       "      <th></th>\n",
       "      <th>Espacialidades</th>\n",
       "      <th>População total 2017</th>\n",
       "      <th>Código</th>\n",
       "      <th>IDHM 2010</th>\n",
       "      <th>IDHM Renda 2010</th>\n",
       "      <th>IDHM Longevidade 2010</th>\n",
       "      <th>Renda per capita 2010</th>\n",
       "    </tr>\n",
       "  </thead>\n",
       "  <tbody>\n",
       "    <tr>\n",
       "      <th>0</th>\n",
       "      <td>Brasil</td>\n",
       "      <td>207660929</td>\n",
       "      <td>76</td>\n",
       "      <td>0.727</td>\n",
       "      <td>0.739</td>\n",
       "      <td>0.816</td>\n",
       "      <td>793.87</td>\n",
       "    </tr>\n",
       "    <tr>\n",
       "      <th>1</th>\n",
       "      <td>Abadia de Goiás</td>\n",
       "      <td>8207</td>\n",
       "      <td>5200050</td>\n",
       "      <td>0.708</td>\n",
       "      <td>0.687</td>\n",
       "      <td>0.830</td>\n",
       "      <td>574.96</td>\n",
       "    </tr>\n",
       "    <tr>\n",
       "      <th>2</th>\n",
       "      <td>Abadia dos Dourados</td>\n",
       "      <td>7059</td>\n",
       "      <td>3100104</td>\n",
       "      <td>0.689</td>\n",
       "      <td>0.693</td>\n",
       "      <td>0.839</td>\n",
       "      <td>596.18</td>\n",
       "    </tr>\n",
       "    <tr>\n",
       "      <th>3</th>\n",
       "      <td>Abadiânia</td>\n",
       "      <td>18775</td>\n",
       "      <td>5200100</td>\n",
       "      <td>0.689</td>\n",
       "      <td>0.671</td>\n",
       "      <td>0.841</td>\n",
       "      <td>519.87</td>\n",
       "    </tr>\n",
       "    <tr>\n",
       "      <th>4</th>\n",
       "      <td>Abaeté</td>\n",
       "      <td>23611</td>\n",
       "      <td>3100203</td>\n",
       "      <td>0.698</td>\n",
       "      <td>0.720</td>\n",
       "      <td>0.848</td>\n",
       "      <td>707.24</td>\n",
       "    </tr>\n",
       "  </tbody>\n",
       "</table>\n",
       "</div>"
      ],
      "text/plain": [
       "        Espacialidades População total 2017   Código  IDHM 2010  \\\n",
       "0               Brasil            207660929       76      0.727   \n",
       "1      Abadia de Goiás                 8207  5200050      0.708   \n",
       "2  Abadia dos Dourados                 7059  3100104      0.689   \n",
       "3            Abadiânia                18775  5200100      0.689   \n",
       "4               Abaeté                23611  3100203      0.698   \n",
       "\n",
       "   IDHM Renda 2010  IDHM Longevidade 2010  Renda per capita 2010  \n",
       "0            0.739                  0.816                 793.87  \n",
       "1            0.687                  0.830                 574.96  \n",
       "2            0.693                  0.839                 596.18  \n",
       "3            0.671                  0.841                 519.87  \n",
       "4            0.720                  0.848                 707.24  "
      ]
     },
     "execution_count": 150,
     "metadata": {},
     "output_type": "execute_result"
    }
   ],
   "source": [
    "metadata = municipio.merge(idh_capita,on=\"Espacialidades\")\n",
    "metadata.head()\n"
   ]
  },
  {
   "cell_type": "code",
   "execution_count": 151,
   "metadata": {
    "colab": {
     "base_uri": "https://localhost:8080/",
     "height": 224
    },
    "id": "zHngG7YX0zAK",
    "outputId": "4234fff3-4fef-454b-9934-2d0ec365ce8c"
   },
   "outputs": [
    {
     "data": {
      "text/html": [
       "<div>\n",
       "<style scoped>\n",
       "    .dataframe tbody tr th:only-of-type {\n",
       "        vertical-align: middle;\n",
       "    }\n",
       "\n",
       "    .dataframe tbody tr th {\n",
       "        vertical-align: top;\n",
       "    }\n",
       "\n",
       "    .dataframe thead th {\n",
       "        text-align: right;\n",
       "    }\n",
       "</style>\n",
       "<table border=\"1\" class=\"dataframe\">\n",
       "  <thead>\n",
       "    <tr style=\"text-align: right;\">\n",
       "      <th></th>\n",
       "      <th>cod_loja</th>\n",
       "      <th>cod_ap</th>\n",
       "      <th>cod_municipio</th>\n",
       "      <th>feature_01</th>\n",
       "      <th>feature_02</th>\n",
       "      <th>feature_03</th>\n",
       "      <th>feature_04</th>\n",
       "      <th>feature_05</th>\n",
       "      <th>feature_06</th>\n",
       "      <th>feature_07</th>\n",
       "      <th>...</th>\n",
       "      <th>FEATURE_05_VALUE_08</th>\n",
       "      <th>FEATURE_11_VALUE_01</th>\n",
       "      <th>FEATURE_11_VALUE_02</th>\n",
       "      <th>FEATURE_11_VALUE_03</th>\n",
       "      <th>FEATURE_11_VALUE_04</th>\n",
       "      <th>FEATURE_11_VALUE_05</th>\n",
       "      <th>FEATURE_11_VALUE_06</th>\n",
       "      <th>FEATURE_11_VALUE_07</th>\n",
       "      <th>FEATURE_12_VALUE_01</th>\n",
       "      <th>FEATURE_12_VALUE_02</th>\n",
       "    </tr>\n",
       "  </thead>\n",
       "  <tbody>\n",
       "    <tr>\n",
       "      <th>0</th>\n",
       "      <td>1</td>\n",
       "      <td>4125506005002</td>\n",
       "      <td>4125506</td>\n",
       "      <td>NaN</td>\n",
       "      <td>FEATURE_02_VALUE_04</td>\n",
       "      <td>True</td>\n",
       "      <td>21.76</td>\n",
       "      <td>FEATURE_05_VALUE_04</td>\n",
       "      <td>31</td>\n",
       "      <td>0.168922</td>\n",
       "      <td>...</td>\n",
       "      <td>0</td>\n",
       "      <td>0</td>\n",
       "      <td>0</td>\n",
       "      <td>0</td>\n",
       "      <td>0</td>\n",
       "      <td>0</td>\n",
       "      <td>0</td>\n",
       "      <td>0</td>\n",
       "      <td>0</td>\n",
       "      <td>0</td>\n",
       "    </tr>\n",
       "    <tr>\n",
       "      <th>1</th>\n",
       "      <td>2</td>\n",
       "      <td>5300108005004</td>\n",
       "      <td>5300108</td>\n",
       "      <td>NaN</td>\n",
       "      <td>FEATURE_02_VALUE_03</td>\n",
       "      <td>True</td>\n",
       "      <td>22.00</td>\n",
       "      <td>FEATURE_05_VALUE_03</td>\n",
       "      <td>27</td>\n",
       "      <td>0.215967</td>\n",
       "      <td>...</td>\n",
       "      <td>0</td>\n",
       "      <td>0</td>\n",
       "      <td>0</td>\n",
       "      <td>0</td>\n",
       "      <td>0</td>\n",
       "      <td>0</td>\n",
       "      <td>0</td>\n",
       "      <td>0</td>\n",
       "      <td>0</td>\n",
       "      <td>0</td>\n",
       "    </tr>\n",
       "    <tr>\n",
       "      <th>2</th>\n",
       "      <td>3</td>\n",
       "      <td>3550308005052</td>\n",
       "      <td>3550308</td>\n",
       "      <td>NaN</td>\n",
       "      <td>FEATURE_02_VALUE_03</td>\n",
       "      <td>True</td>\n",
       "      <td>45.66</td>\n",
       "      <td>FEATURE_05_VALUE_03</td>\n",
       "      <td>6</td>\n",
       "      <td>0.190102</td>\n",
       "      <td>...</td>\n",
       "      <td>0</td>\n",
       "      <td>0</td>\n",
       "      <td>0</td>\n",
       "      <td>0</td>\n",
       "      <td>0</td>\n",
       "      <td>0</td>\n",
       "      <td>0</td>\n",
       "      <td>0</td>\n",
       "      <td>0</td>\n",
       "      <td>0</td>\n",
       "    </tr>\n",
       "    <tr>\n",
       "      <th>3</th>\n",
       "      <td>4</td>\n",
       "      <td>3145604003002</td>\n",
       "      <td>3145604</td>\n",
       "      <td>NaN</td>\n",
       "      <td>FEATURE_02_VALUE_04</td>\n",
       "      <td>False</td>\n",
       "      <td>30.00</td>\n",
       "      <td>FEATURE_05_VALUE_03</td>\n",
       "      <td>3</td>\n",
       "      <td>0.141988</td>\n",
       "      <td>...</td>\n",
       "      <td>0</td>\n",
       "      <td>0</td>\n",
       "      <td>0</td>\n",
       "      <td>0</td>\n",
       "      <td>0</td>\n",
       "      <td>0</td>\n",
       "      <td>0</td>\n",
       "      <td>0</td>\n",
       "      <td>0</td>\n",
       "      <td>0</td>\n",
       "    </tr>\n",
       "    <tr>\n",
       "      <th>4</th>\n",
       "      <td>5</td>\n",
       "      <td>1600303005010</td>\n",
       "      <td>1600303</td>\n",
       "      <td>FEATURE_01_VALUE_10</td>\n",
       "      <td>FEATURE_02_VALUE_02</td>\n",
       "      <td>False</td>\n",
       "      <td>62.49</td>\n",
       "      <td>FEATURE_05_VALUE_03</td>\n",
       "      <td>30</td>\n",
       "      <td>0.107619</td>\n",
       "      <td>...</td>\n",
       "      <td>0</td>\n",
       "      <td>0</td>\n",
       "      <td>1</td>\n",
       "      <td>0</td>\n",
       "      <td>0</td>\n",
       "      <td>0</td>\n",
       "      <td>0</td>\n",
       "      <td>0</td>\n",
       "      <td>1</td>\n",
       "      <td>0</td>\n",
       "    </tr>\n",
       "  </tbody>\n",
       "</table>\n",
       "<p>5 rows × 46 columns</p>\n",
       "</div>"
      ],
      "text/plain": [
       "   cod_loja         cod_ap  cod_municipio           feature_01  \\\n",
       "0         1  4125506005002        4125506                  NaN   \n",
       "1         2  5300108005004        5300108                  NaN   \n",
       "2         3  3550308005052        3550308                  NaN   \n",
       "3         4  3145604003002        3145604                  NaN   \n",
       "4         5  1600303005010        1600303  FEATURE_01_VALUE_10   \n",
       "\n",
       "            feature_02  feature_03  feature_04           feature_05  \\\n",
       "0  FEATURE_02_VALUE_04        True       21.76  FEATURE_05_VALUE_04   \n",
       "1  FEATURE_02_VALUE_03        True       22.00  FEATURE_05_VALUE_03   \n",
       "2  FEATURE_02_VALUE_03        True       45.66  FEATURE_05_VALUE_03   \n",
       "3  FEATURE_02_VALUE_04       False       30.00  FEATURE_05_VALUE_03   \n",
       "4  FEATURE_02_VALUE_02       False       62.49  FEATURE_05_VALUE_03   \n",
       "\n",
       "   feature_06  feature_07  ...  FEATURE_05_VALUE_08  FEATURE_11_VALUE_01  \\\n",
       "0          31    0.168922  ...                    0                    0   \n",
       "1          27    0.215967  ...                    0                    0   \n",
       "2           6    0.190102  ...                    0                    0   \n",
       "3           3    0.141988  ...                    0                    0   \n",
       "4          30    0.107619  ...                    0                    0   \n",
       "\n",
       "   FEATURE_11_VALUE_02 FEATURE_11_VALUE_03 FEATURE_11_VALUE_04  \\\n",
       "0                    0                   0                   0   \n",
       "1                    0                   0                   0   \n",
       "2                    0                   0                   0   \n",
       "3                    0                   0                   0   \n",
       "4                    1                   0                   0   \n",
       "\n",
       "   FEATURE_11_VALUE_05  FEATURE_11_VALUE_06  FEATURE_11_VALUE_07  \\\n",
       "0                    0                    0                    0   \n",
       "1                    0                    0                    0   \n",
       "2                    0                    0                    0   \n",
       "3                    0                    0                    0   \n",
       "4                    0                    0                    0   \n",
       "\n",
       "   FEATURE_12_VALUE_01  FEATURE_12_VALUE_02  \n",
       "0                    0                    0  \n",
       "1                    0                    0  \n",
       "2                    0                    0  \n",
       "3                    0                    0  \n",
       "4                    1                    0  \n",
       "\n",
       "[5 rows x 46 columns]"
      ]
     },
     "execution_count": 151,
     "metadata": {},
     "output_type": "execute_result"
    }
   ],
   "source": [
    "feature_01_dummy = pd.get_dummies(lojas.feature_01)\n",
    "feature_02_dummy = pd.get_dummies(lojas.feature_02)\n",
    "feature_05_dummy = pd.get_dummies(lojas.feature_05)\n",
    "feature_11_dummy = pd.get_dummies(lojas.feature_11)\n",
    "feature_12_dummy = pd.get_dummies(lojas.feature_12)\n",
    "hot_encoded_lojas = pd.concat([lojas,feature_01_dummy,feature_02_dummy,feature_05_dummy,feature_11_dummy,feature_12_dummy],axis=1)\n",
    "hot_encoded_lojas.head()"
   ]
  },
  {
   "cell_type": "code",
   "execution_count": 152,
   "metadata": {
    "colab": {
     "base_uri": "https://localhost:8080/",
     "height": 224
    },
    "id": "LSp1AYSAd40M",
    "outputId": "c67c99f3-38b1-4f46-a24c-f2a7ecf98980"
   },
   "outputs": [
    {
     "data": {
      "text/html": [
       "<div>\n",
       "<style scoped>\n",
       "    .dataframe tbody tr th:only-of-type {\n",
       "        vertical-align: middle;\n",
       "    }\n",
       "\n",
       "    .dataframe tbody tr th {\n",
       "        vertical-align: top;\n",
       "    }\n",
       "\n",
       "    .dataframe thead th {\n",
       "        text-align: right;\n",
       "    }\n",
       "</style>\n",
       "<table border=\"1\" class=\"dataframe\">\n",
       "  <thead>\n",
       "    <tr style=\"text-align: right;\">\n",
       "      <th></th>\n",
       "      <th>cod_loja</th>\n",
       "      <th>cod_ap</th>\n",
       "      <th>cod_municipio</th>\n",
       "      <th>feature_03</th>\n",
       "      <th>feature_04</th>\n",
       "      <th>feature_06</th>\n",
       "      <th>feature_07</th>\n",
       "      <th>feature_08</th>\n",
       "      <th>feature_09</th>\n",
       "      <th>feature_10</th>\n",
       "      <th>...</th>\n",
       "      <th>FEATURE_05_VALUE_08</th>\n",
       "      <th>FEATURE_11_VALUE_01</th>\n",
       "      <th>FEATURE_11_VALUE_02</th>\n",
       "      <th>FEATURE_11_VALUE_03</th>\n",
       "      <th>FEATURE_11_VALUE_04</th>\n",
       "      <th>FEATURE_11_VALUE_05</th>\n",
       "      <th>FEATURE_11_VALUE_06</th>\n",
       "      <th>FEATURE_11_VALUE_07</th>\n",
       "      <th>FEATURE_12_VALUE_01</th>\n",
       "      <th>FEATURE_12_VALUE_02</th>\n",
       "    </tr>\n",
       "  </thead>\n",
       "  <tbody>\n",
       "    <tr>\n",
       "      <th>0</th>\n",
       "      <td>1</td>\n",
       "      <td>4125506005002</td>\n",
       "      <td>4125506</td>\n",
       "      <td>True</td>\n",
       "      <td>21.76</td>\n",
       "      <td>31</td>\n",
       "      <td>0.168922</td>\n",
       "      <td>0.167659</td>\n",
       "      <td>115.958848</td>\n",
       "      <td>2.349821</td>\n",
       "      <td>...</td>\n",
       "      <td>0</td>\n",
       "      <td>0</td>\n",
       "      <td>0</td>\n",
       "      <td>0</td>\n",
       "      <td>0</td>\n",
       "      <td>0</td>\n",
       "      <td>0</td>\n",
       "      <td>0</td>\n",
       "      <td>0</td>\n",
       "      <td>0</td>\n",
       "    </tr>\n",
       "    <tr>\n",
       "      <th>1</th>\n",
       "      <td>2</td>\n",
       "      <td>5300108005004</td>\n",
       "      <td>5300108</td>\n",
       "      <td>True</td>\n",
       "      <td>22.00</td>\n",
       "      <td>27</td>\n",
       "      <td>0.215967</td>\n",
       "      <td>0.197287</td>\n",
       "      <td>1562.674817</td>\n",
       "      <td>3.670883</td>\n",
       "      <td>...</td>\n",
       "      <td>0</td>\n",
       "      <td>0</td>\n",
       "      <td>0</td>\n",
       "      <td>0</td>\n",
       "      <td>0</td>\n",
       "      <td>0</td>\n",
       "      <td>0</td>\n",
       "      <td>0</td>\n",
       "      <td>0</td>\n",
       "      <td>0</td>\n",
       "    </tr>\n",
       "    <tr>\n",
       "      <th>2</th>\n",
       "      <td>3</td>\n",
       "      <td>3550308005052</td>\n",
       "      <td>3550308</td>\n",
       "      <td>True</td>\n",
       "      <td>45.66</td>\n",
       "      <td>6</td>\n",
       "      <td>0.190102</td>\n",
       "      <td>0.179140</td>\n",
       "      <td>5593.905463</td>\n",
       "      <td>2.815883</td>\n",
       "      <td>...</td>\n",
       "      <td>0</td>\n",
       "      <td>0</td>\n",
       "      <td>0</td>\n",
       "      <td>0</td>\n",
       "      <td>0</td>\n",
       "      <td>0</td>\n",
       "      <td>0</td>\n",
       "      <td>0</td>\n",
       "      <td>0</td>\n",
       "      <td>0</td>\n",
       "    </tr>\n",
       "    <tr>\n",
       "      <th>3</th>\n",
       "      <td>4</td>\n",
       "      <td>3145604003002</td>\n",
       "      <td>3145604</td>\n",
       "      <td>False</td>\n",
       "      <td>30.00</td>\n",
       "      <td>3</td>\n",
       "      <td>0.141988</td>\n",
       "      <td>0.143677</td>\n",
       "      <td>12.824022</td>\n",
       "      <td>7.218132</td>\n",
       "      <td>...</td>\n",
       "      <td>0</td>\n",
       "      <td>0</td>\n",
       "      <td>0</td>\n",
       "      <td>0</td>\n",
       "      <td>0</td>\n",
       "      <td>0</td>\n",
       "      <td>0</td>\n",
       "      <td>0</td>\n",
       "      <td>0</td>\n",
       "      <td>0</td>\n",
       "    </tr>\n",
       "    <tr>\n",
       "      <th>4</th>\n",
       "      <td>5</td>\n",
       "      <td>1600303005010</td>\n",
       "      <td>1600303</td>\n",
       "      <td>False</td>\n",
       "      <td>62.49</td>\n",
       "      <td>30</td>\n",
       "      <td>0.107619</td>\n",
       "      <td>0.103083</td>\n",
       "      <td>325.531120</td>\n",
       "      <td>1.972944</td>\n",
       "      <td>...</td>\n",
       "      <td>0</td>\n",
       "      <td>0</td>\n",
       "      <td>1</td>\n",
       "      <td>0</td>\n",
       "      <td>0</td>\n",
       "      <td>0</td>\n",
       "      <td>0</td>\n",
       "      <td>0</td>\n",
       "      <td>1</td>\n",
       "      <td>0</td>\n",
       "    </tr>\n",
       "  </tbody>\n",
       "</table>\n",
       "<p>5 rows × 41 columns</p>\n",
       "</div>"
      ],
      "text/plain": [
       "   cod_loja         cod_ap  cod_municipio  feature_03  feature_04  feature_06  \\\n",
       "0         1  4125506005002        4125506        True       21.76          31   \n",
       "1         2  5300108005004        5300108        True       22.00          27   \n",
       "2         3  3550308005052        3550308        True       45.66           6   \n",
       "3         4  3145604003002        3145604       False       30.00           3   \n",
       "4         5  1600303005010        1600303       False       62.49          30   \n",
       "\n",
       "   feature_07  feature_08   feature_09  feature_10  ...  FEATURE_05_VALUE_08  \\\n",
       "0    0.168922    0.167659   115.958848    2.349821  ...                    0   \n",
       "1    0.215967    0.197287  1562.674817    3.670883  ...                    0   \n",
       "2    0.190102    0.179140  5593.905463    2.815883  ...                    0   \n",
       "3    0.141988    0.143677    12.824022    7.218132  ...                    0   \n",
       "4    0.107619    0.103083   325.531120    1.972944  ...                    0   \n",
       "\n",
       "   FEATURE_11_VALUE_01  FEATURE_11_VALUE_02  FEATURE_11_VALUE_03  \\\n",
       "0                    0                    0                    0   \n",
       "1                    0                    0                    0   \n",
       "2                    0                    0                    0   \n",
       "3                    0                    0                    0   \n",
       "4                    0                    1                    0   \n",
       "\n",
       "   FEATURE_11_VALUE_04  FEATURE_11_VALUE_05  FEATURE_11_VALUE_06  \\\n",
       "0                    0                    0                    0   \n",
       "1                    0                    0                    0   \n",
       "2                    0                    0                    0   \n",
       "3                    0                    0                    0   \n",
       "4                    0                    0                    0   \n",
       "\n",
       "   FEATURE_11_VALUE_07  FEATURE_12_VALUE_01  FEATURE_12_VALUE_02  \n",
       "0                    0                    0                    0  \n",
       "1                    0                    0                    0  \n",
       "2                    0                    0                    0  \n",
       "3                    0                    0                    0  \n",
       "4                    0                    1                    0  \n",
       "\n",
       "[5 rows x 41 columns]"
      ]
     },
     "execution_count": 152,
     "metadata": {},
     "output_type": "execute_result"
    }
   ],
   "source": [
    "hot_encoded_lojas = hot_encoded_lojas.drop(columns=[\"feature_01\",\"feature_02\",\"feature_05\",\"feature_11\",\"feature_12\"])\n",
    "hot_encoded_lojas.head()"
   ]
  },
  {
   "cell_type": "code",
   "execution_count": 153,
   "metadata": {
    "colab": {
     "base_uri": "https://localhost:8080/"
    },
    "id": "xEPwFS9FgeZd",
    "outputId": "27061879-ddef-438a-be41-bbdf3346b179"
   },
   "outputs": [
    {
     "data": {
      "text/plain": [
       "(3130, 41)"
      ]
     },
     "execution_count": 153,
     "metadata": {},
     "output_type": "execute_result"
    }
   ],
   "source": [
    "hot_encoded_lojas.shape"
   ]
  },
  {
   "cell_type": "code",
   "execution_count": 154,
   "metadata": {
    "colab": {
     "base_uri": "https://localhost:8080/",
     "height": 360
    },
    "id": "zCB2WTQreOv_",
    "outputId": "242d3560-acd3-4277-d5eb-2e9a63ee1a1f"
   },
   "outputs": [
    {
     "data": {
      "text/html": [
       "<div>\n",
       "<style scoped>\n",
       "    .dataframe tbody tr th:only-of-type {\n",
       "        vertical-align: middle;\n",
       "    }\n",
       "\n",
       "    .dataframe tbody tr th {\n",
       "        vertical-align: top;\n",
       "    }\n",
       "\n",
       "    .dataframe thead th {\n",
       "        text-align: right;\n",
       "    }\n",
       "</style>\n",
       "<table border=\"1\" class=\"dataframe\">\n",
       "  <thead>\n",
       "    <tr style=\"text-align: right;\">\n",
       "      <th></th>\n",
       "      <th>cod_loja</th>\n",
       "      <th>cod_ap</th>\n",
       "      <th>cod_municipio</th>\n",
       "      <th>feature_03</th>\n",
       "      <th>feature_04</th>\n",
       "      <th>feature_06</th>\n",
       "      <th>feature_07</th>\n",
       "      <th>feature_08</th>\n",
       "      <th>feature_09</th>\n",
       "      <th>feature_10</th>\n",
       "      <th>...</th>\n",
       "      <th>FEATURE_11_VALUE_07</th>\n",
       "      <th>FEATURE_12_VALUE_01</th>\n",
       "      <th>FEATURE_12_VALUE_02</th>\n",
       "      <th>Espacialidades</th>\n",
       "      <th>População total 2017</th>\n",
       "      <th>Código</th>\n",
       "      <th>IDHM 2010</th>\n",
       "      <th>IDHM Renda 2010</th>\n",
       "      <th>IDHM Longevidade 2010</th>\n",
       "      <th>Renda per capita 2010</th>\n",
       "    </tr>\n",
       "  </thead>\n",
       "  <tbody>\n",
       "    <tr>\n",
       "      <th>0</th>\n",
       "      <td>1</td>\n",
       "      <td>4125506005002</td>\n",
       "      <td>4125506</td>\n",
       "      <td>True</td>\n",
       "      <td>21.76</td>\n",
       "      <td>31</td>\n",
       "      <td>0.168922</td>\n",
       "      <td>0.167659</td>\n",
       "      <td>115.958848</td>\n",
       "      <td>2.349821</td>\n",
       "      <td>...</td>\n",
       "      <td>0</td>\n",
       "      <td>0</td>\n",
       "      <td>0</td>\n",
       "      <td>São José dos Pinhais</td>\n",
       "      <td>307530</td>\n",
       "      <td>4125506</td>\n",
       "      <td>0.758</td>\n",
       "      <td>0.749</td>\n",
       "      <td>0.859</td>\n",
       "      <td>846.93</td>\n",
       "    </tr>\n",
       "    <tr>\n",
       "      <th>1</th>\n",
       "      <td>140</td>\n",
       "      <td>4125506005001</td>\n",
       "      <td>4125506</td>\n",
       "      <td>True</td>\n",
       "      <td>56.84</td>\n",
       "      <td>9</td>\n",
       "      <td>0.168922</td>\n",
       "      <td>0.167659</td>\n",
       "      <td>115.958848</td>\n",
       "      <td>2.349821</td>\n",
       "      <td>...</td>\n",
       "      <td>0</td>\n",
       "      <td>0</td>\n",
       "      <td>0</td>\n",
       "      <td>São José dos Pinhais</td>\n",
       "      <td>307530</td>\n",
       "      <td>4125506</td>\n",
       "      <td>0.758</td>\n",
       "      <td>0.749</td>\n",
       "      <td>0.859</td>\n",
       "      <td>846.93</td>\n",
       "    </tr>\n",
       "    <tr>\n",
       "      <th>2</th>\n",
       "      <td>1205</td>\n",
       "      <td>4125506005002</td>\n",
       "      <td>4125506</td>\n",
       "      <td>True</td>\n",
       "      <td>29.30</td>\n",
       "      <td>1</td>\n",
       "      <td>0.168922</td>\n",
       "      <td>0.167659</td>\n",
       "      <td>115.958848</td>\n",
       "      <td>2.349821</td>\n",
       "      <td>...</td>\n",
       "      <td>0</td>\n",
       "      <td>0</td>\n",
       "      <td>0</td>\n",
       "      <td>São José dos Pinhais</td>\n",
       "      <td>307530</td>\n",
       "      <td>4125506</td>\n",
       "      <td>0.758</td>\n",
       "      <td>0.749</td>\n",
       "      <td>0.859</td>\n",
       "      <td>846.93</td>\n",
       "    </tr>\n",
       "    <tr>\n",
       "      <th>3</th>\n",
       "      <td>1305</td>\n",
       "      <td>4125506005001</td>\n",
       "      <td>4125506</td>\n",
       "      <td>True</td>\n",
       "      <td>20.60</td>\n",
       "      <td>1</td>\n",
       "      <td>0.168922</td>\n",
       "      <td>0.167659</td>\n",
       "      <td>115.958848</td>\n",
       "      <td>2.349821</td>\n",
       "      <td>...</td>\n",
       "      <td>0</td>\n",
       "      <td>0</td>\n",
       "      <td>1</td>\n",
       "      <td>São José dos Pinhais</td>\n",
       "      <td>307530</td>\n",
       "      <td>4125506</td>\n",
       "      <td>0.758</td>\n",
       "      <td>0.749</td>\n",
       "      <td>0.859</td>\n",
       "      <td>846.93</td>\n",
       "    </tr>\n",
       "    <tr>\n",
       "      <th>4</th>\n",
       "      <td>1610</td>\n",
       "      <td>4125506005001</td>\n",
       "      <td>4125506</td>\n",
       "      <td>True</td>\n",
       "      <td>63.58</td>\n",
       "      <td>6</td>\n",
       "      <td>0.168922</td>\n",
       "      <td>0.167659</td>\n",
       "      <td>115.958848</td>\n",
       "      <td>2.349821</td>\n",
       "      <td>...</td>\n",
       "      <td>0</td>\n",
       "      <td>0</td>\n",
       "      <td>0</td>\n",
       "      <td>São José dos Pinhais</td>\n",
       "      <td>307530</td>\n",
       "      <td>4125506</td>\n",
       "      <td>0.758</td>\n",
       "      <td>0.749</td>\n",
       "      <td>0.859</td>\n",
       "      <td>846.93</td>\n",
       "    </tr>\n",
       "  </tbody>\n",
       "</table>\n",
       "<p>5 rows × 48 columns</p>\n",
       "</div>"
      ],
      "text/plain": [
       "   cod_loja         cod_ap  cod_municipio  feature_03  feature_04  feature_06  \\\n",
       "0         1  4125506005002        4125506        True       21.76          31   \n",
       "1       140  4125506005001        4125506        True       56.84           9   \n",
       "2      1205  4125506005002        4125506        True       29.30           1   \n",
       "3      1305  4125506005001        4125506        True       20.60           1   \n",
       "4      1610  4125506005001        4125506        True       63.58           6   \n",
       "\n",
       "   feature_07  feature_08  feature_09  feature_10  ...  FEATURE_11_VALUE_07  \\\n",
       "0    0.168922    0.167659  115.958848    2.349821  ...                    0   \n",
       "1    0.168922    0.167659  115.958848    2.349821  ...                    0   \n",
       "2    0.168922    0.167659  115.958848    2.349821  ...                    0   \n",
       "3    0.168922    0.167659  115.958848    2.349821  ...                    0   \n",
       "4    0.168922    0.167659  115.958848    2.349821  ...                    0   \n",
       "\n",
       "   FEATURE_12_VALUE_01  FEATURE_12_VALUE_02        Espacialidades  \\\n",
       "0                    0                    0  São José dos Pinhais   \n",
       "1                    0                    0  São José dos Pinhais   \n",
       "2                    0                    0  São José dos Pinhais   \n",
       "3                    0                    1  São José dos Pinhais   \n",
       "4                    0                    0  São José dos Pinhais   \n",
       "\n",
       "   População total 2017   Código  IDHM 2010  IDHM Renda 2010  \\\n",
       "0                307530  4125506      0.758            0.749   \n",
       "1                307530  4125506      0.758            0.749   \n",
       "2                307530  4125506      0.758            0.749   \n",
       "3                307530  4125506      0.758            0.749   \n",
       "4                307530  4125506      0.758            0.749   \n",
       "\n",
       "   IDHM Longevidade 2010  Renda per capita 2010  \n",
       "0                  0.859                 846.93  \n",
       "1                  0.859                 846.93  \n",
       "2                  0.859                 846.93  \n",
       "3                  0.859                 846.93  \n",
       "4                  0.859                 846.93  \n",
       "\n",
       "[5 rows x 48 columns]"
      ]
     },
     "execution_count": 154,
     "metadata": {},
     "output_type": "execute_result"
    }
   ],
   "source": [
    "metadata_lojas = hot_encoded_lojas.merge(metadata,how=\"inner\",left_on=\"cod_municipio\",right_on=\"Código\")\n",
    "metadata_lojas.head()"
   ]
  },
  {
   "cell_type": "code",
   "execution_count": 155,
   "metadata": {
    "colab": {
     "base_uri": "https://localhost:8080/",
     "height": 419
    },
    "id": "RrNvXQJBezTH",
    "outputId": "fdf65c62-0cea-4f31-8709-98b5975a7b95"
   },
   "outputs": [
    {
     "data": {
      "text/html": [
       "<div>\n",
       "<style scoped>\n",
       "    .dataframe tbody tr th:only-of-type {\n",
       "        vertical-align: middle;\n",
       "    }\n",
       "\n",
       "    .dataframe tbody tr th {\n",
       "        vertical-align: top;\n",
       "    }\n",
       "\n",
       "    .dataframe thead th {\n",
       "        text-align: right;\n",
       "    }\n",
       "</style>\n",
       "<table border=\"1\" class=\"dataframe\">\n",
       "  <thead>\n",
       "    <tr style=\"text-align: right;\">\n",
       "      <th></th>\n",
       "      <th>cod_loja</th>\n",
       "      <th>ano</th>\n",
       "      <th>mes</th>\n",
       "      <th>qtde</th>\n",
       "      <th>receita</th>\n",
       "    </tr>\n",
       "  </thead>\n",
       "  <tbody>\n",
       "    <tr>\n",
       "      <th>0</th>\n",
       "      <td>1</td>\n",
       "      <td>2016</td>\n",
       "      <td>1</td>\n",
       "      <td>13034.0</td>\n",
       "      <td>441833.37</td>\n",
       "    </tr>\n",
       "    <tr>\n",
       "      <th>1</th>\n",
       "      <td>1</td>\n",
       "      <td>2016</td>\n",
       "      <td>2</td>\n",
       "      <td>11411.0</td>\n",
       "      <td>395340.22</td>\n",
       "    </tr>\n",
       "    <tr>\n",
       "      <th>2</th>\n",
       "      <td>1</td>\n",
       "      <td>2016</td>\n",
       "      <td>3</td>\n",
       "      <td>15030.0</td>\n",
       "      <td>587810.18</td>\n",
       "    </tr>\n",
       "    <tr>\n",
       "      <th>3</th>\n",
       "      <td>1</td>\n",
       "      <td>2016</td>\n",
       "      <td>4</td>\n",
       "      <td>12726.0</td>\n",
       "      <td>534618.84</td>\n",
       "    </tr>\n",
       "    <tr>\n",
       "      <th>4</th>\n",
       "      <td>1</td>\n",
       "      <td>2016</td>\n",
       "      <td>5</td>\n",
       "      <td>13978.0</td>\n",
       "      <td>595477.92</td>\n",
       "    </tr>\n",
       "    <tr>\n",
       "      <th>...</th>\n",
       "      <td>...</td>\n",
       "      <td>...</td>\n",
       "      <td>...</td>\n",
       "      <td>...</td>\n",
       "      <td>...</td>\n",
       "    </tr>\n",
       "    <tr>\n",
       "      <th>73639</th>\n",
       "      <td>3687</td>\n",
       "      <td>2017</td>\n",
       "      <td>8</td>\n",
       "      <td>1864.0</td>\n",
       "      <td>71171.48</td>\n",
       "    </tr>\n",
       "    <tr>\n",
       "      <th>73640</th>\n",
       "      <td>3687</td>\n",
       "      <td>2017</td>\n",
       "      <td>9</td>\n",
       "      <td>1257.0</td>\n",
       "      <td>48284.66</td>\n",
       "    </tr>\n",
       "    <tr>\n",
       "      <th>73641</th>\n",
       "      <td>3687</td>\n",
       "      <td>2017</td>\n",
       "      <td>10</td>\n",
       "      <td>1709.0</td>\n",
       "      <td>61198.10</td>\n",
       "    </tr>\n",
       "    <tr>\n",
       "      <th>73642</th>\n",
       "      <td>3687</td>\n",
       "      <td>2017</td>\n",
       "      <td>11</td>\n",
       "      <td>2039.0</td>\n",
       "      <td>73877.02</td>\n",
       "    </tr>\n",
       "    <tr>\n",
       "      <th>73643</th>\n",
       "      <td>3687</td>\n",
       "      <td>2017</td>\n",
       "      <td>12</td>\n",
       "      <td>4398.0</td>\n",
       "      <td>186545.24</td>\n",
       "    </tr>\n",
       "  </tbody>\n",
       "</table>\n",
       "<p>73644 rows × 5 columns</p>\n",
       "</div>"
      ],
      "text/plain": [
       "       cod_loja   ano  mes     qtde    receita\n",
       "0             1  2016    1  13034.0  441833.37\n",
       "1             1  2016    2  11411.0  395340.22\n",
       "2             1  2016    3  15030.0  587810.18\n",
       "3             1  2016    4  12726.0  534618.84\n",
       "4             1  2016    5  13978.0  595477.92\n",
       "...         ...   ...  ...      ...        ...\n",
       "73639      3687  2017    8   1864.0   71171.48\n",
       "73640      3687  2017    9   1257.0   48284.66\n",
       "73641      3687  2017   10   1709.0   61198.10\n",
       "73642      3687  2017   11   2039.0   73877.02\n",
       "73643      3687  2017   12   4398.0  186545.24\n",
       "\n",
       "[73644 rows x 5 columns]"
      ]
     },
     "execution_count": 155,
     "metadata": {},
     "output_type": "execute_result"
    }
   ],
   "source": [
    "# Verificar a correlação entre média de de 2016 e 2017 \n",
    "grouped_loja_ano_mes = faturamento.groupby([\"cod_loja\",\"ano\",\"mes\"]).sum().reset_index()\n",
    "grouped_loja_ano_mes"
   ]
  },
  {
   "cell_type": "code",
   "execution_count": 156,
   "metadata": {
    "colab": {
     "base_uri": "https://localhost:8080/",
     "height": 419
    },
    "id": "aCYqJXsqsYst",
    "outputId": "d763e3ad-ab39-4607-9405-70996105e9f2"
   },
   "outputs": [
    {
     "data": {
      "text/html": [
       "<div>\n",
       "<style scoped>\n",
       "    .dataframe tbody tr th:only-of-type {\n",
       "        vertical-align: middle;\n",
       "    }\n",
       "\n",
       "    .dataframe tbody tr th {\n",
       "        vertical-align: top;\n",
       "    }\n",
       "\n",
       "    .dataframe thead th {\n",
       "        text-align: right;\n",
       "    }\n",
       "</style>\n",
       "<table border=\"1\" class=\"dataframe\">\n",
       "  <thead>\n",
       "    <tr style=\"text-align: right;\">\n",
       "      <th></th>\n",
       "      <th>cod_loja</th>\n",
       "      <th>ano</th>\n",
       "      <th>mes</th>\n",
       "      <th>qtde</th>\n",
       "      <th>receita</th>\n",
       "    </tr>\n",
       "  </thead>\n",
       "  <tbody>\n",
       "    <tr>\n",
       "      <th>0</th>\n",
       "      <td>1</td>\n",
       "      <td>2016</td>\n",
       "      <td>1</td>\n",
       "      <td>13034.0</td>\n",
       "      <td>441833.37</td>\n",
       "    </tr>\n",
       "    <tr>\n",
       "      <th>1</th>\n",
       "      <td>1</td>\n",
       "      <td>2016</td>\n",
       "      <td>2</td>\n",
       "      <td>11411.0</td>\n",
       "      <td>395340.22</td>\n",
       "    </tr>\n",
       "    <tr>\n",
       "      <th>2</th>\n",
       "      <td>1</td>\n",
       "      <td>2016</td>\n",
       "      <td>3</td>\n",
       "      <td>15030.0</td>\n",
       "      <td>587810.18</td>\n",
       "    </tr>\n",
       "    <tr>\n",
       "      <th>12</th>\n",
       "      <td>1</td>\n",
       "      <td>2017</td>\n",
       "      <td>1</td>\n",
       "      <td>10065.0</td>\n",
       "      <td>404108.77</td>\n",
       "    </tr>\n",
       "    <tr>\n",
       "      <th>13</th>\n",
       "      <td>1</td>\n",
       "      <td>2017</td>\n",
       "      <td>2</td>\n",
       "      <td>11107.0</td>\n",
       "      <td>483610.18</td>\n",
       "    </tr>\n",
       "    <tr>\n",
       "      <th>...</th>\n",
       "      <td>...</td>\n",
       "      <td>...</td>\n",
       "      <td>...</td>\n",
       "      <td>...</td>\n",
       "      <td>...</td>\n",
       "    </tr>\n",
       "    <tr>\n",
       "      <th>73621</th>\n",
       "      <td>3687</td>\n",
       "      <td>2016</td>\n",
       "      <td>2</td>\n",
       "      <td>1269.0</td>\n",
       "      <td>40147.63</td>\n",
       "    </tr>\n",
       "    <tr>\n",
       "      <th>73622</th>\n",
       "      <td>3687</td>\n",
       "      <td>2016</td>\n",
       "      <td>3</td>\n",
       "      <td>1597.0</td>\n",
       "      <td>56621.60</td>\n",
       "    </tr>\n",
       "    <tr>\n",
       "      <th>73632</th>\n",
       "      <td>3687</td>\n",
       "      <td>2017</td>\n",
       "      <td>1</td>\n",
       "      <td>1317.0</td>\n",
       "      <td>49269.30</td>\n",
       "    </tr>\n",
       "    <tr>\n",
       "      <th>73633</th>\n",
       "      <td>3687</td>\n",
       "      <td>2017</td>\n",
       "      <td>2</td>\n",
       "      <td>1153.0</td>\n",
       "      <td>39229.17</td>\n",
       "    </tr>\n",
       "    <tr>\n",
       "      <th>73634</th>\n",
       "      <td>3687</td>\n",
       "      <td>2017</td>\n",
       "      <td>3</td>\n",
       "      <td>1789.0</td>\n",
       "      <td>63369.27</td>\n",
       "    </tr>\n",
       "  </tbody>\n",
       "</table>\n",
       "<p>18338 rows × 5 columns</p>\n",
       "</div>"
      ],
      "text/plain": [
       "       cod_loja   ano  mes     qtde    receita\n",
       "0             1  2016    1  13034.0  441833.37\n",
       "1             1  2016    2  11411.0  395340.22\n",
       "2             1  2016    3  15030.0  587810.18\n",
       "12            1  2017    1  10065.0  404108.77\n",
       "13            1  2017    2  11107.0  483610.18\n",
       "...         ...   ...  ...      ...        ...\n",
       "73621      3687  2016    2   1269.0   40147.63\n",
       "73622      3687  2016    3   1597.0   56621.60\n",
       "73632      3687  2017    1   1317.0   49269.30\n",
       "73633      3687  2017    2   1153.0   39229.17\n",
       "73634      3687  2017    3   1789.0   63369.27\n",
       "\n",
       "[18338 rows x 5 columns]"
      ]
     },
     "execution_count": 156,
     "metadata": {},
     "output_type": "execute_result"
    }
   ],
   "source": [
    "filtered_month = grouped_loja_ano_mes[(grouped_loja_ano_mes[\"mes\"] == 1) | (grouped_loja_ano_mes[\"mes\"] == 2)  | (grouped_loja_ano_mes[\"mes\"] == 3)]\n",
    "filtered_month"
   ]
  },
  {
   "cell_type": "code",
   "execution_count": 157,
   "metadata": {
    "colab": {
     "base_uri": "https://localhost:8080/",
     "height": 527
    },
    "id": "ghtZG_pOsbNf",
    "outputId": "e9a61113-0cd9-4c60-f4b0-72ac627a7010"
   },
   "outputs": [
    {
     "name": "stderr",
     "output_type": "stream",
     "text": [
      "/home/felipemarcelino/.conda/envs/hackaton_big_data/lib/python3.7/site-packages/ipykernel_launcher.py:1: SettingWithCopyWarning: \n",
      "A value is trying to be set on a copy of a slice from a DataFrame.\n",
      "Try using .loc[row_indexer,col_indexer] = value instead\n",
      "\n",
      "See the caveats in the documentation: https://pandas.pydata.org/pandas-docs/stable/user_guide/indexing.html#returning-a-view-versus-a-copy\n",
      "  \"\"\"Entry point for launching an IPython kernel.\n"
     ]
    },
    {
     "data": {
      "text/html": [
       "<div>\n",
       "<style scoped>\n",
       "    .dataframe tbody tr th:only-of-type {\n",
       "        vertical-align: middle;\n",
       "    }\n",
       "\n",
       "    .dataframe tbody tr th {\n",
       "        vertical-align: top;\n",
       "    }\n",
       "\n",
       "    .dataframe thead th {\n",
       "        text-align: right;\n",
       "    }\n",
       "</style>\n",
       "<table border=\"1\" class=\"dataframe\">\n",
       "  <thead>\n",
       "    <tr style=\"text-align: right;\">\n",
       "      <th></th>\n",
       "      <th>cod_loja</th>\n",
       "      <th>ano</th>\n",
       "      <th>mes</th>\n",
       "      <th>qtde</th>\n",
       "      <th>receita</th>\n",
       "      <th>mes_ano</th>\n",
       "    </tr>\n",
       "  </thead>\n",
       "  <tbody>\n",
       "    <tr>\n",
       "      <th>0</th>\n",
       "      <td>1</td>\n",
       "      <td>2016</td>\n",
       "      <td>1</td>\n",
       "      <td>13034.0</td>\n",
       "      <td>441833.37</td>\n",
       "      <td>2016_1</td>\n",
       "    </tr>\n",
       "    <tr>\n",
       "      <th>1</th>\n",
       "      <td>1</td>\n",
       "      <td>2016</td>\n",
       "      <td>2</td>\n",
       "      <td>11411.0</td>\n",
       "      <td>395340.22</td>\n",
       "      <td>2016_2</td>\n",
       "    </tr>\n",
       "    <tr>\n",
       "      <th>2</th>\n",
       "      <td>1</td>\n",
       "      <td>2016</td>\n",
       "      <td>3</td>\n",
       "      <td>15030.0</td>\n",
       "      <td>587810.18</td>\n",
       "      <td>2016_3</td>\n",
       "    </tr>\n",
       "    <tr>\n",
       "      <th>12</th>\n",
       "      <td>1</td>\n",
       "      <td>2017</td>\n",
       "      <td>1</td>\n",
       "      <td>10065.0</td>\n",
       "      <td>404108.77</td>\n",
       "      <td>2017_1</td>\n",
       "    </tr>\n",
       "    <tr>\n",
       "      <th>13</th>\n",
       "      <td>1</td>\n",
       "      <td>2017</td>\n",
       "      <td>2</td>\n",
       "      <td>11107.0</td>\n",
       "      <td>483610.18</td>\n",
       "      <td>2017_2</td>\n",
       "    </tr>\n",
       "    <tr>\n",
       "      <th>...</th>\n",
       "      <td>...</td>\n",
       "      <td>...</td>\n",
       "      <td>...</td>\n",
       "      <td>...</td>\n",
       "      <td>...</td>\n",
       "      <td>...</td>\n",
       "    </tr>\n",
       "    <tr>\n",
       "      <th>73621</th>\n",
       "      <td>3687</td>\n",
       "      <td>2016</td>\n",
       "      <td>2</td>\n",
       "      <td>1269.0</td>\n",
       "      <td>40147.63</td>\n",
       "      <td>2016_2</td>\n",
       "    </tr>\n",
       "    <tr>\n",
       "      <th>73622</th>\n",
       "      <td>3687</td>\n",
       "      <td>2016</td>\n",
       "      <td>3</td>\n",
       "      <td>1597.0</td>\n",
       "      <td>56621.60</td>\n",
       "      <td>2016_3</td>\n",
       "    </tr>\n",
       "    <tr>\n",
       "      <th>73632</th>\n",
       "      <td>3687</td>\n",
       "      <td>2017</td>\n",
       "      <td>1</td>\n",
       "      <td>1317.0</td>\n",
       "      <td>49269.30</td>\n",
       "      <td>2017_1</td>\n",
       "    </tr>\n",
       "    <tr>\n",
       "      <th>73633</th>\n",
       "      <td>3687</td>\n",
       "      <td>2017</td>\n",
       "      <td>2</td>\n",
       "      <td>1153.0</td>\n",
       "      <td>39229.17</td>\n",
       "      <td>2017_2</td>\n",
       "    </tr>\n",
       "    <tr>\n",
       "      <th>73634</th>\n",
       "      <td>3687</td>\n",
       "      <td>2017</td>\n",
       "      <td>3</td>\n",
       "      <td>1789.0</td>\n",
       "      <td>63369.27</td>\n",
       "      <td>2017_3</td>\n",
       "    </tr>\n",
       "  </tbody>\n",
       "</table>\n",
       "<p>18338 rows × 6 columns</p>\n",
       "</div>"
      ],
      "text/plain": [
       "       cod_loja   ano  mes     qtde    receita mes_ano\n",
       "0             1  2016    1  13034.0  441833.37  2016_1\n",
       "1             1  2016    2  11411.0  395340.22  2016_2\n",
       "2             1  2016    3  15030.0  587810.18  2016_3\n",
       "12            1  2017    1  10065.0  404108.77  2017_1\n",
       "13            1  2017    2  11107.0  483610.18  2017_2\n",
       "...         ...   ...  ...      ...        ...     ...\n",
       "73621      3687  2016    2   1269.0   40147.63  2016_2\n",
       "73622      3687  2016    3   1597.0   56621.60  2016_3\n",
       "73632      3687  2017    1   1317.0   49269.30  2017_1\n",
       "73633      3687  2017    2   1153.0   39229.17  2017_2\n",
       "73634      3687  2017    3   1789.0   63369.27  2017_3\n",
       "\n",
       "[18338 rows x 6 columns]"
      ]
     },
     "execution_count": 157,
     "metadata": {},
     "output_type": "execute_result"
    }
   ],
   "source": [
    "filtered_month['mes_ano'] = filtered_month[['ano', 'mes']].astype(str).apply(lambda x: '_'.join(x), axis=1)\n",
    "filtered_month"
   ]
  },
  {
   "cell_type": "code",
   "execution_count": 158,
   "metadata": {
    "colab": {
     "base_uri": "https://localhost:8080/",
     "height": 450
    },
    "id": "OQ0Z312MsgaI",
    "outputId": "ed5fa5dd-c532-4db6-9393-8dd29a6f21d5"
   },
   "outputs": [
    {
     "data": {
      "text/html": [
       "<div>\n",
       "<style scoped>\n",
       "    .dataframe tbody tr th:only-of-type {\n",
       "        vertical-align: middle;\n",
       "    }\n",
       "\n",
       "    .dataframe tbody tr th {\n",
       "        vertical-align: top;\n",
       "    }\n",
       "\n",
       "    .dataframe thead th {\n",
       "        text-align: right;\n",
       "    }\n",
       "</style>\n",
       "<table border=\"1\" class=\"dataframe\">\n",
       "  <thead>\n",
       "    <tr style=\"text-align: right;\">\n",
       "      <th>mes_ano</th>\n",
       "      <th>2016_1</th>\n",
       "      <th>2016_2</th>\n",
       "      <th>2016_3</th>\n",
       "      <th>2017_1</th>\n",
       "      <th>2017_2</th>\n",
       "      <th>2017_3</th>\n",
       "    </tr>\n",
       "    <tr>\n",
       "      <th>cod_loja</th>\n",
       "      <th></th>\n",
       "      <th></th>\n",
       "      <th></th>\n",
       "      <th></th>\n",
       "      <th></th>\n",
       "      <th></th>\n",
       "    </tr>\n",
       "  </thead>\n",
       "  <tbody>\n",
       "    <tr>\n",
       "      <th>1</th>\n",
       "      <td>441833.37</td>\n",
       "      <td>395340.22</td>\n",
       "      <td>587810.18</td>\n",
       "      <td>404108.77</td>\n",
       "      <td>483610.18</td>\n",
       "      <td>626291.59</td>\n",
       "    </tr>\n",
       "    <tr>\n",
       "      <th>2</th>\n",
       "      <td>54660.39</td>\n",
       "      <td>49120.72</td>\n",
       "      <td>53421.91</td>\n",
       "      <td>55235.99</td>\n",
       "      <td>39019.13</td>\n",
       "      <td>62446.56</td>\n",
       "    </tr>\n",
       "    <tr>\n",
       "      <th>3</th>\n",
       "      <td>161428.96</td>\n",
       "      <td>132417.93</td>\n",
       "      <td>139495.61</td>\n",
       "      <td>131512.12</td>\n",
       "      <td>130868.47</td>\n",
       "      <td>141768.81</td>\n",
       "    </tr>\n",
       "    <tr>\n",
       "      <th>4</th>\n",
       "      <td>54363.21</td>\n",
       "      <td>38433.23</td>\n",
       "      <td>43751.17</td>\n",
       "      <td>48694.93</td>\n",
       "      <td>42445.06</td>\n",
       "      <td>51014.55</td>\n",
       "    </tr>\n",
       "    <tr>\n",
       "      <th>5</th>\n",
       "      <td>248834.01</td>\n",
       "      <td>182297.02</td>\n",
       "      <td>210579.83</td>\n",
       "      <td>192211.08</td>\n",
       "      <td>151167.08</td>\n",
       "      <td>177428.43</td>\n",
       "    </tr>\n",
       "    <tr>\n",
       "      <th>...</th>\n",
       "      <td>...</td>\n",
       "      <td>...</td>\n",
       "      <td>...</td>\n",
       "      <td>...</td>\n",
       "      <td>...</td>\n",
       "      <td>...</td>\n",
       "    </tr>\n",
       "    <tr>\n",
       "      <th>3682</th>\n",
       "      <td>121727.10</td>\n",
       "      <td>96526.36</td>\n",
       "      <td>150817.29</td>\n",
       "      <td>106572.49</td>\n",
       "      <td>105736.48</td>\n",
       "      <td>132543.17</td>\n",
       "    </tr>\n",
       "    <tr>\n",
       "      <th>3683</th>\n",
       "      <td>190014.89</td>\n",
       "      <td>107871.65</td>\n",
       "      <td>125584.12</td>\n",
       "      <td>167519.47</td>\n",
       "      <td>129491.36</td>\n",
       "      <td>130658.08</td>\n",
       "    </tr>\n",
       "    <tr>\n",
       "      <th>3685</th>\n",
       "      <td>187775.61</td>\n",
       "      <td>145430.99</td>\n",
       "      <td>184151.12</td>\n",
       "      <td>182564.30</td>\n",
       "      <td>125240.48</td>\n",
       "      <td>192202.86</td>\n",
       "    </tr>\n",
       "    <tr>\n",
       "      <th>3686</th>\n",
       "      <td>85259.81</td>\n",
       "      <td>53781.67</td>\n",
       "      <td>49293.02</td>\n",
       "      <td>78711.76</td>\n",
       "      <td>63761.34</td>\n",
       "      <td>62940.56</td>\n",
       "    </tr>\n",
       "    <tr>\n",
       "      <th>3687</th>\n",
       "      <td>48988.51</td>\n",
       "      <td>40147.63</td>\n",
       "      <td>56621.60</td>\n",
       "      <td>49269.30</td>\n",
       "      <td>39229.17</td>\n",
       "      <td>63369.27</td>\n",
       "    </tr>\n",
       "  </tbody>\n",
       "</table>\n",
       "<p>3090 rows × 6 columns</p>\n",
       "</div>"
      ],
      "text/plain": [
       "mes_ano      2016_1     2016_2     2016_3     2017_1     2017_2     2017_3\n",
       "cod_loja                                                                  \n",
       "1         441833.37  395340.22  587810.18  404108.77  483610.18  626291.59\n",
       "2          54660.39   49120.72   53421.91   55235.99   39019.13   62446.56\n",
       "3         161428.96  132417.93  139495.61  131512.12  130868.47  141768.81\n",
       "4          54363.21   38433.23   43751.17   48694.93   42445.06   51014.55\n",
       "5         248834.01  182297.02  210579.83  192211.08  151167.08  177428.43\n",
       "...             ...        ...        ...        ...        ...        ...\n",
       "3682      121727.10   96526.36  150817.29  106572.49  105736.48  132543.17\n",
       "3683      190014.89  107871.65  125584.12  167519.47  129491.36  130658.08\n",
       "3685      187775.61  145430.99  184151.12  182564.30  125240.48  192202.86\n",
       "3686       85259.81   53781.67   49293.02   78711.76   63761.34   62940.56\n",
       "3687       48988.51   40147.63   56621.60   49269.30   39229.17   63369.27\n",
       "\n",
       "[3090 rows x 6 columns]"
      ]
     },
     "execution_count": 158,
     "metadata": {},
     "output_type": "execute_result"
    }
   ],
   "source": [
    "filtered_month_pivoted = filtered_month.pivot_table(\"receita\",[\"cod_loja\"],[\"mes_ano\"])\n",
    "filtered_month_pivoted"
   ]
  },
  {
   "cell_type": "code",
   "execution_count": 159,
   "metadata": {
    "colab": {
     "base_uri": "https://localhost:8080/",
     "height": 235
    },
    "id": "iP_IMfLwsl04",
    "outputId": "3dfdd581-80e5-4b23-fe38-e25b31e719a4"
   },
   "outputs": [
    {
     "data": {
      "text/html": [
       "<div>\n",
       "<style scoped>\n",
       "    .dataframe tbody tr th:only-of-type {\n",
       "        vertical-align: middle;\n",
       "    }\n",
       "\n",
       "    .dataframe tbody tr th {\n",
       "        vertical-align: top;\n",
       "    }\n",
       "\n",
       "    .dataframe thead th {\n",
       "        text-align: right;\n",
       "    }\n",
       "</style>\n",
       "<table border=\"1\" class=\"dataframe\">\n",
       "  <thead>\n",
       "    <tr style=\"text-align: right;\">\n",
       "      <th>mes_ano</th>\n",
       "      <th>2016_1</th>\n",
       "      <th>2016_2</th>\n",
       "      <th>2016_3</th>\n",
       "      <th>2017_1</th>\n",
       "      <th>2017_2</th>\n",
       "      <th>2017_3</th>\n",
       "      <th>cod_loja</th>\n",
       "    </tr>\n",
       "    <tr>\n",
       "      <th>cod_index</th>\n",
       "      <th></th>\n",
       "      <th></th>\n",
       "      <th></th>\n",
       "      <th></th>\n",
       "      <th></th>\n",
       "      <th></th>\n",
       "      <th></th>\n",
       "    </tr>\n",
       "  </thead>\n",
       "  <tbody>\n",
       "    <tr>\n",
       "      <th>1</th>\n",
       "      <td>441833.37</td>\n",
       "      <td>395340.22</td>\n",
       "      <td>587810.18</td>\n",
       "      <td>404108.77</td>\n",
       "      <td>483610.18</td>\n",
       "      <td>626291.59</td>\n",
       "      <td>1</td>\n",
       "    </tr>\n",
       "    <tr>\n",
       "      <th>2</th>\n",
       "      <td>54660.39</td>\n",
       "      <td>49120.72</td>\n",
       "      <td>53421.91</td>\n",
       "      <td>55235.99</td>\n",
       "      <td>39019.13</td>\n",
       "      <td>62446.56</td>\n",
       "      <td>2</td>\n",
       "    </tr>\n",
       "    <tr>\n",
       "      <th>3</th>\n",
       "      <td>161428.96</td>\n",
       "      <td>132417.93</td>\n",
       "      <td>139495.61</td>\n",
       "      <td>131512.12</td>\n",
       "      <td>130868.47</td>\n",
       "      <td>141768.81</td>\n",
       "      <td>3</td>\n",
       "    </tr>\n",
       "    <tr>\n",
       "      <th>4</th>\n",
       "      <td>54363.21</td>\n",
       "      <td>38433.23</td>\n",
       "      <td>43751.17</td>\n",
       "      <td>48694.93</td>\n",
       "      <td>42445.06</td>\n",
       "      <td>51014.55</td>\n",
       "      <td>4</td>\n",
       "    </tr>\n",
       "    <tr>\n",
       "      <th>5</th>\n",
       "      <td>248834.01</td>\n",
       "      <td>182297.02</td>\n",
       "      <td>210579.83</td>\n",
       "      <td>192211.08</td>\n",
       "      <td>151167.08</td>\n",
       "      <td>177428.43</td>\n",
       "      <td>5</td>\n",
       "    </tr>\n",
       "  </tbody>\n",
       "</table>\n",
       "</div>"
      ],
      "text/plain": [
       "mes_ano       2016_1     2016_2     2016_3     2017_1     2017_2     2017_3  \\\n",
       "cod_index                                                                     \n",
       "1          441833.37  395340.22  587810.18  404108.77  483610.18  626291.59   \n",
       "2           54660.39   49120.72   53421.91   55235.99   39019.13   62446.56   \n",
       "3          161428.96  132417.93  139495.61  131512.12  130868.47  141768.81   \n",
       "4           54363.21   38433.23   43751.17   48694.93   42445.06   51014.55   \n",
       "5          248834.01  182297.02  210579.83  192211.08  151167.08  177428.43   \n",
       "\n",
       "mes_ano    cod_loja  \n",
       "cod_index            \n",
       "1                 1  \n",
       "2                 2  \n",
       "3                 3  \n",
       "4                 4  \n",
       "5                 5  "
      ]
     },
     "execution_count": 159,
     "metadata": {},
     "output_type": "execute_result"
    }
   ],
   "source": [
    "filtered_month_pivoted['cod_loja'] = filtered_month_pivoted.index\n",
    "filtered_month_pivoted.index.names = [\"cod_index\"]\n",
    "filtered_month_pivoted.head()"
   ]
  },
  {
   "cell_type": "code",
   "execution_count": 160,
   "metadata": {
    "colab": {
     "base_uri": "https://localhost:8080/",
     "height": 360
    },
    "id": "pegfFsBHs1Ry",
    "outputId": "6a03c38a-0725-4ce7-95c7-0ff3c6839a4d"
   },
   "outputs": [
    {
     "data": {
      "text/html": [
       "<div>\n",
       "<style scoped>\n",
       "    .dataframe tbody tr th:only-of-type {\n",
       "        vertical-align: middle;\n",
       "    }\n",
       "\n",
       "    .dataframe tbody tr th {\n",
       "        vertical-align: top;\n",
       "    }\n",
       "\n",
       "    .dataframe thead th {\n",
       "        text-align: right;\n",
       "    }\n",
       "</style>\n",
       "<table border=\"1\" class=\"dataframe\">\n",
       "  <thead>\n",
       "    <tr style=\"text-align: right;\">\n",
       "      <th></th>\n",
       "      <th>cod_loja</th>\n",
       "      <th>cod_ap</th>\n",
       "      <th>cod_municipio</th>\n",
       "      <th>feature_03</th>\n",
       "      <th>feature_04</th>\n",
       "      <th>feature_06</th>\n",
       "      <th>feature_07</th>\n",
       "      <th>feature_08</th>\n",
       "      <th>feature_09</th>\n",
       "      <th>feature_10</th>\n",
       "      <th>...</th>\n",
       "      <th>IDHM 2010</th>\n",
       "      <th>IDHM Renda 2010</th>\n",
       "      <th>IDHM Longevidade 2010</th>\n",
       "      <th>Renda per capita 2010</th>\n",
       "      <th>2016_1</th>\n",
       "      <th>2016_2</th>\n",
       "      <th>2016_3</th>\n",
       "      <th>2017_1</th>\n",
       "      <th>2017_2</th>\n",
       "      <th>2017_3</th>\n",
       "    </tr>\n",
       "  </thead>\n",
       "  <tbody>\n",
       "    <tr>\n",
       "      <th>0</th>\n",
       "      <td>1</td>\n",
       "      <td>4125506005002</td>\n",
       "      <td>4125506</td>\n",
       "      <td>True</td>\n",
       "      <td>21.76</td>\n",
       "      <td>31</td>\n",
       "      <td>0.168922</td>\n",
       "      <td>0.167659</td>\n",
       "      <td>115.958848</td>\n",
       "      <td>2.349821</td>\n",
       "      <td>...</td>\n",
       "      <td>0.758</td>\n",
       "      <td>0.749</td>\n",
       "      <td>0.859</td>\n",
       "      <td>846.93</td>\n",
       "      <td>441833.37</td>\n",
       "      <td>395340.22</td>\n",
       "      <td>587810.18</td>\n",
       "      <td>404108.77</td>\n",
       "      <td>483610.18</td>\n",
       "      <td>626291.59</td>\n",
       "    </tr>\n",
       "    <tr>\n",
       "      <th>1</th>\n",
       "      <td>140</td>\n",
       "      <td>4125506005001</td>\n",
       "      <td>4125506</td>\n",
       "      <td>True</td>\n",
       "      <td>56.84</td>\n",
       "      <td>9</td>\n",
       "      <td>0.168922</td>\n",
       "      <td>0.167659</td>\n",
       "      <td>115.958848</td>\n",
       "      <td>2.349821</td>\n",
       "      <td>...</td>\n",
       "      <td>0.758</td>\n",
       "      <td>0.749</td>\n",
       "      <td>0.859</td>\n",
       "      <td>846.93</td>\n",
       "      <td>183519.18</td>\n",
       "      <td>127751.96</td>\n",
       "      <td>151379.97</td>\n",
       "      <td>180857.94</td>\n",
       "      <td>127568.94</td>\n",
       "      <td>189205.05</td>\n",
       "    </tr>\n",
       "    <tr>\n",
       "      <th>2</th>\n",
       "      <td>1205</td>\n",
       "      <td>4125506005002</td>\n",
       "      <td>4125506</td>\n",
       "      <td>True</td>\n",
       "      <td>29.30</td>\n",
       "      <td>1</td>\n",
       "      <td>0.168922</td>\n",
       "      <td>0.167659</td>\n",
       "      <td>115.958848</td>\n",
       "      <td>2.349821</td>\n",
       "      <td>...</td>\n",
       "      <td>0.758</td>\n",
       "      <td>0.749</td>\n",
       "      <td>0.859</td>\n",
       "      <td>846.93</td>\n",
       "      <td>53845.51</td>\n",
       "      <td>41153.12</td>\n",
       "      <td>47994.36</td>\n",
       "      <td>47277.50</td>\n",
       "      <td>42168.71</td>\n",
       "      <td>55975.56</td>\n",
       "    </tr>\n",
       "    <tr>\n",
       "      <th>3</th>\n",
       "      <td>1305</td>\n",
       "      <td>4125506005001</td>\n",
       "      <td>4125506</td>\n",
       "      <td>True</td>\n",
       "      <td>20.60</td>\n",
       "      <td>1</td>\n",
       "      <td>0.168922</td>\n",
       "      <td>0.167659</td>\n",
       "      <td>115.958848</td>\n",
       "      <td>2.349821</td>\n",
       "      <td>...</td>\n",
       "      <td>0.758</td>\n",
       "      <td>0.749</td>\n",
       "      <td>0.859</td>\n",
       "      <td>846.93</td>\n",
       "      <td>53922.72</td>\n",
       "      <td>44761.70</td>\n",
       "      <td>47498.39</td>\n",
       "      <td>53024.46</td>\n",
       "      <td>44005.19</td>\n",
       "      <td>57864.03</td>\n",
       "    </tr>\n",
       "    <tr>\n",
       "      <th>4</th>\n",
       "      <td>1610</td>\n",
       "      <td>4125506005001</td>\n",
       "      <td>4125506</td>\n",
       "      <td>True</td>\n",
       "      <td>63.58</td>\n",
       "      <td>6</td>\n",
       "      <td>0.168922</td>\n",
       "      <td>0.167659</td>\n",
       "      <td>115.958848</td>\n",
       "      <td>2.349821</td>\n",
       "      <td>...</td>\n",
       "      <td>0.758</td>\n",
       "      <td>0.749</td>\n",
       "      <td>0.859</td>\n",
       "      <td>846.93</td>\n",
       "      <td>211876.56</td>\n",
       "      <td>148266.09</td>\n",
       "      <td>160381.81</td>\n",
       "      <td>188363.66</td>\n",
       "      <td>156484.33</td>\n",
       "      <td>174045.49</td>\n",
       "    </tr>\n",
       "  </tbody>\n",
       "</table>\n",
       "<p>5 rows × 54 columns</p>\n",
       "</div>"
      ],
      "text/plain": [
       "   cod_loja         cod_ap  cod_municipio  feature_03  feature_04  feature_06  \\\n",
       "0         1  4125506005002        4125506        True       21.76          31   \n",
       "1       140  4125506005001        4125506        True       56.84           9   \n",
       "2      1205  4125506005002        4125506        True       29.30           1   \n",
       "3      1305  4125506005001        4125506        True       20.60           1   \n",
       "4      1610  4125506005001        4125506        True       63.58           6   \n",
       "\n",
       "   feature_07  feature_08  feature_09  feature_10  ...  IDHM 2010  \\\n",
       "0    0.168922    0.167659  115.958848    2.349821  ...      0.758   \n",
       "1    0.168922    0.167659  115.958848    2.349821  ...      0.758   \n",
       "2    0.168922    0.167659  115.958848    2.349821  ...      0.758   \n",
       "3    0.168922    0.167659  115.958848    2.349821  ...      0.758   \n",
       "4    0.168922    0.167659  115.958848    2.349821  ...      0.758   \n",
       "\n",
       "   IDHM Renda 2010  IDHM Longevidade 2010  Renda per capita 2010     2016_1  \\\n",
       "0            0.749                  0.859                 846.93  441833.37   \n",
       "1            0.749                  0.859                 846.93  183519.18   \n",
       "2            0.749                  0.859                 846.93   53845.51   \n",
       "3            0.749                  0.859                 846.93   53922.72   \n",
       "4            0.749                  0.859                 846.93  211876.56   \n",
       "\n",
       "      2016_2     2016_3     2017_1     2017_2     2017_3  \n",
       "0  395340.22  587810.18  404108.77  483610.18  626291.59  \n",
       "1  127751.96  151379.97  180857.94  127568.94  189205.05  \n",
       "2   41153.12   47994.36   47277.50   42168.71   55975.56  \n",
       "3   44761.70   47498.39   53024.46   44005.19   57864.03  \n",
       "4  148266.09  160381.81  188363.66  156484.33  174045.49  \n",
       "\n",
       "[5 rows x 54 columns]"
      ]
     },
     "execution_count": 160,
     "metadata": {},
     "output_type": "execute_result"
    }
   ],
   "source": [
    "data = metadata_lojas.merge(filtered_month_pivoted,on=\"cod_loja\",how=\"left\")\n",
    "data.head()"
   ]
  },
  {
   "cell_type": "code",
   "execution_count": 161,
   "metadata": {
    "colab": {
     "base_uri": "https://localhost:8080/"
    },
    "id": "uZN4EMoqtmrv",
    "outputId": "7919b368-033c-4c65-abed-dde0b6ed119c"
   },
   "outputs": [
    {
     "data": {
      "text/plain": [
       "Index(['cod_loja', 'cod_ap', 'cod_municipio', 'feature_03', 'feature_04',\n",
       "       'feature_06', 'feature_07', 'feature_08', 'feature_09', 'feature_10',\n",
       "       'feature_13', 'feature_14', 'feature_15', 'feature_16', 'feature_17',\n",
       "       'feature_18', 'FEATURE_01_VALUE_03', 'FEATURE_01_VALUE_06',\n",
       "       'FEATURE_01_VALUE_08', 'FEATURE_01_VALUE_10', 'FEATURE_02_VALUE_02',\n",
       "       'FEATURE_02_VALUE_03', 'FEATURE_02_VALUE_04', 'FEATURE_02_VALUE_06',\n",
       "       'FEATURE_05_VALUE_01', 'FEATURE_05_VALUE_02', 'FEATURE_05_VALUE_03',\n",
       "       'FEATURE_05_VALUE_04', 'FEATURE_05_VALUE_05', 'FEATURE_05_VALUE_06',\n",
       "       'FEATURE_05_VALUE_07', 'FEATURE_05_VALUE_08', 'FEATURE_11_VALUE_01',\n",
       "       'FEATURE_11_VALUE_02', 'FEATURE_11_VALUE_03', 'FEATURE_11_VALUE_04',\n",
       "       'FEATURE_11_VALUE_05', 'FEATURE_11_VALUE_06', 'FEATURE_11_VALUE_07',\n",
       "       'FEATURE_12_VALUE_01', 'FEATURE_12_VALUE_02', 'Espacialidades',\n",
       "       'População total 2017', 'Código', 'IDHM 2010', 'IDHM Renda 2010',\n",
       "       'IDHM Longevidade 2010', 'Renda per capita 2010', '2016_1', '2016_2',\n",
       "       '2016_3', '2017_1', '2017_2', '2017_3'],\n",
       "      dtype='object')"
      ]
     },
     "execution_count": 161,
     "metadata": {},
     "output_type": "execute_result"
    }
   ],
   "source": [
    "data.columns"
   ]
  },
  {
   "cell_type": "code",
   "execution_count": 162,
   "metadata": {},
   "outputs": [],
   "source": [
    "data[\"População total 2017\"] = data[\"População total 2017\"].astype(float)"
   ]
  },
  {
   "cell_type": "code",
   "execution_count": 163,
   "metadata": {},
   "outputs": [
    {
     "data": {
      "text/html": [
       "<div>\n",
       "<style scoped>\n",
       "    .dataframe tbody tr th:only-of-type {\n",
       "        vertical-align: middle;\n",
       "    }\n",
       "\n",
       "    .dataframe tbody tr th {\n",
       "        vertical-align: top;\n",
       "    }\n",
       "\n",
       "    .dataframe thead th {\n",
       "        text-align: right;\n",
       "    }\n",
       "</style>\n",
       "<table border=\"1\" class=\"dataframe\">\n",
       "  <thead>\n",
       "    <tr style=\"text-align: right;\">\n",
       "      <th></th>\n",
       "      <th>cod_loja</th>\n",
       "      <th>cod_ap</th>\n",
       "      <th>cod_municipio</th>\n",
       "      <th>feature_03</th>\n",
       "      <th>feature_04</th>\n",
       "      <th>feature_06</th>\n",
       "      <th>feature_07</th>\n",
       "      <th>feature_08</th>\n",
       "      <th>feature_09</th>\n",
       "      <th>feature_10</th>\n",
       "      <th>...</th>\n",
       "      <th>FEATURE_05_VALUE_04</th>\n",
       "      <th>FEATURE_05_VALUE_05</th>\n",
       "      <th>FEATURE_05_VALUE_06</th>\n",
       "      <th>FEATURE_05_VALUE_07</th>\n",
       "      <th>FEATURE_11_VALUE_01</th>\n",
       "      <th>FEATURE_11_VALUE_02</th>\n",
       "      <th>FEATURE_11_VALUE_06</th>\n",
       "      <th>FEATURE_11_VALUE_07</th>\n",
       "      <th>FEATURE_12_VALUE_01</th>\n",
       "      <th>FEATURE_12_VALUE_02</th>\n",
       "    </tr>\n",
       "  </thead>\n",
       "  <tbody>\n",
       "    <tr>\n",
       "      <th>0</th>\n",
       "      <td>10</td>\n",
       "      <td>2933307005008</td>\n",
       "      <td>2933307</td>\n",
       "      <td>False</td>\n",
       "      <td>50.00</td>\n",
       "      <td>6</td>\n",
       "      <td>0.134654</td>\n",
       "      <td>0.131481</td>\n",
       "      <td>116.194058</td>\n",
       "      <td>2.913498</td>\n",
       "      <td>...</td>\n",
       "      <td>0</td>\n",
       "      <td>0</td>\n",
       "      <td>0</td>\n",
       "      <td>0</td>\n",
       "      <td>1</td>\n",
       "      <td>0</td>\n",
       "      <td>0</td>\n",
       "      <td>0</td>\n",
       "      <td>1</td>\n",
       "      <td>0</td>\n",
       "    </tr>\n",
       "    <tr>\n",
       "      <th>1</th>\n",
       "      <td>13</td>\n",
       "      <td>2916401003002</td>\n",
       "      <td>2916401</td>\n",
       "      <td>False</td>\n",
       "      <td>41.00</td>\n",
       "      <td>4</td>\n",
       "      <td>0.116662</td>\n",
       "      <td>0.114995</td>\n",
       "      <td>26.345742</td>\n",
       "      <td>1.312612</td>\n",
       "      <td>...</td>\n",
       "      <td>0</td>\n",
       "      <td>0</td>\n",
       "      <td>0</td>\n",
       "      <td>0</td>\n",
       "      <td>0</td>\n",
       "      <td>0</td>\n",
       "      <td>0</td>\n",
       "      <td>0</td>\n",
       "      <td>0</td>\n",
       "      <td>0</td>\n",
       "    </tr>\n",
       "    <tr>\n",
       "      <th>2</th>\n",
       "      <td>16</td>\n",
       "      <td>2928703003003</td>\n",
       "      <td>2928703</td>\n",
       "      <td>False</td>\n",
       "      <td>42.12</td>\n",
       "      <td>2</td>\n",
       "      <td>0.104162</td>\n",
       "      <td>0.087807</td>\n",
       "      <td>35.362788</td>\n",
       "      <td>1.969512</td>\n",
       "      <td>...</td>\n",
       "      <td>0</td>\n",
       "      <td>1</td>\n",
       "      <td>0</td>\n",
       "      <td>0</td>\n",
       "      <td>0</td>\n",
       "      <td>0</td>\n",
       "      <td>0</td>\n",
       "      <td>0</td>\n",
       "      <td>0</td>\n",
       "      <td>0</td>\n",
       "    </tr>\n",
       "    <tr>\n",
       "      <th>3</th>\n",
       "      <td>21</td>\n",
       "      <td>2906006003001</td>\n",
       "      <td>2906006</td>\n",
       "      <td>False</td>\n",
       "      <td>30.00</td>\n",
       "      <td>6</td>\n",
       "      <td>0.132954</td>\n",
       "      <td>0.131330</td>\n",
       "      <td>9.862757</td>\n",
       "      <td>1.383681</td>\n",
       "      <td>...</td>\n",
       "      <td>0</td>\n",
       "      <td>0</td>\n",
       "      <td>0</td>\n",
       "      <td>0</td>\n",
       "      <td>0</td>\n",
       "      <td>0</td>\n",
       "      <td>0</td>\n",
       "      <td>0</td>\n",
       "      <td>0</td>\n",
       "      <td>0</td>\n",
       "    </tr>\n",
       "    <tr>\n",
       "      <th>4</th>\n",
       "      <td>28</td>\n",
       "      <td>3550308005058</td>\n",
       "      <td>3550308</td>\n",
       "      <td>True</td>\n",
       "      <td>44.31</td>\n",
       "      <td>8</td>\n",
       "      <td>0.190102</td>\n",
       "      <td>0.179140</td>\n",
       "      <td>5593.905463</td>\n",
       "      <td>2.815883</td>\n",
       "      <td>...</td>\n",
       "      <td>0</td>\n",
       "      <td>0</td>\n",
       "      <td>0</td>\n",
       "      <td>0</td>\n",
       "      <td>0</td>\n",
       "      <td>1</td>\n",
       "      <td>0</td>\n",
       "      <td>0</td>\n",
       "      <td>1</td>\n",
       "      <td>0</td>\n",
       "    </tr>\n",
       "  </tbody>\n",
       "</table>\n",
       "<p>5 rows × 37 columns</p>\n",
       "</div>"
      ],
      "text/plain": [
       "   cod_loja         cod_ap  cod_municipio  feature_03  feature_04  feature_06  \\\n",
       "0        10  2933307005008        2933307       False       50.00           6   \n",
       "1        13  2916401003002        2916401       False       41.00           4   \n",
       "2        16  2928703003003        2928703       False       42.12           2   \n",
       "3        21  2906006003001        2906006       False       30.00           6   \n",
       "4        28  3550308005058        3550308        True       44.31           8   \n",
       "\n",
       "   feature_07  feature_08   feature_09  feature_10  ...  FEATURE_05_VALUE_04  \\\n",
       "0    0.134654    0.131481   116.194058    2.913498  ...                    0   \n",
       "1    0.116662    0.114995    26.345742    1.312612  ...                    0   \n",
       "2    0.104162    0.087807    35.362788    1.969512  ...                    0   \n",
       "3    0.132954    0.131330     9.862757    1.383681  ...                    0   \n",
       "4    0.190102    0.179140  5593.905463    2.815883  ...                    0   \n",
       "\n",
       "   FEATURE_05_VALUE_05  FEATURE_05_VALUE_06  FEATURE_05_VALUE_07  \\\n",
       "0                    0                    0                    0   \n",
       "1                    0                    0                    0   \n",
       "2                    1                    0                    0   \n",
       "3                    0                    0                    0   \n",
       "4                    0                    0                    0   \n",
       "\n",
       "   FEATURE_11_VALUE_01  FEATURE_11_VALUE_02  FEATURE_11_VALUE_06  \\\n",
       "0                    1                    0                    0   \n",
       "1                    0                    0                    0   \n",
       "2                    0                    0                    0   \n",
       "3                    0                    0                    0   \n",
       "4                    0                    1                    0   \n",
       "\n",
       "   FEATURE_11_VALUE_07  FEATURE_12_VALUE_01  FEATURE_12_VALUE_02  \n",
       "0                    0                    1                    0  \n",
       "1                    0                    0                    0  \n",
       "2                    0                    0                    0  \n",
       "3                    0                    0                    0  \n",
       "4                    0                    1                    0  \n",
       "\n",
       "[5 rows x 37 columns]"
      ]
     },
     "execution_count": 163,
     "metadata": {},
     "output_type": "execute_result"
    }
   ],
   "source": [
    "feature_01_dummy = pd.get_dummies(cenarios.feature_01)\n",
    "feature_02_dummy = pd.get_dummies(cenarios.feature_02)\n",
    "feature_05_dummy = pd.get_dummies(cenarios.feature_05)\n",
    "feature_11_dummy = pd.get_dummies(cenarios.feature_11)\n",
    "feature_12_dummy = pd.get_dummies(cenarios.feature_12)\n",
    "hot_encoded_cenarios = pd.concat([cenarios,feature_01_dummy,feature_02_dummy,feature_05_dummy,feature_11_dummy,feature_12_dummy],axis=1)\n",
    "hot_encoded_cenarios = hot_encoded_cenarios.drop(columns=[\"feature_01\",\"feature_02\",\"feature_05\",\"feature_11\",\"feature_12\"])\n",
    "hot_encoded_cenarios.head()"
   ]
  },
  {
   "cell_type": "code",
   "execution_count": 164,
   "metadata": {},
   "outputs": [
    {
     "data": {
      "text/html": [
       "<div>\n",
       "<style scoped>\n",
       "    .dataframe tbody tr th:only-of-type {\n",
       "        vertical-align: middle;\n",
       "    }\n",
       "\n",
       "    .dataframe tbody tr th {\n",
       "        vertical-align: top;\n",
       "    }\n",
       "\n",
       "    .dataframe thead th {\n",
       "        text-align: right;\n",
       "    }\n",
       "</style>\n",
       "<table border=\"1\" class=\"dataframe\">\n",
       "  <thead>\n",
       "    <tr style=\"text-align: right;\">\n",
       "      <th></th>\n",
       "      <th>cod_loja</th>\n",
       "      <th>cod_ap</th>\n",
       "      <th>cod_municipio</th>\n",
       "      <th>feature_03</th>\n",
       "      <th>feature_04</th>\n",
       "      <th>feature_06</th>\n",
       "      <th>feature_07</th>\n",
       "      <th>feature_08</th>\n",
       "      <th>feature_09</th>\n",
       "      <th>feature_10</th>\n",
       "      <th>...</th>\n",
       "      <th>FEATURE_11_VALUE_07</th>\n",
       "      <th>FEATURE_12_VALUE_01</th>\n",
       "      <th>FEATURE_12_VALUE_02</th>\n",
       "      <th>Espacialidades</th>\n",
       "      <th>População total 2017</th>\n",
       "      <th>Código</th>\n",
       "      <th>IDHM 2010</th>\n",
       "      <th>IDHM Renda 2010</th>\n",
       "      <th>IDHM Longevidade 2010</th>\n",
       "      <th>Renda per capita 2010</th>\n",
       "    </tr>\n",
       "  </thead>\n",
       "  <tbody>\n",
       "    <tr>\n",
       "      <th>0</th>\n",
       "      <td>10</td>\n",
       "      <td>2933307005008</td>\n",
       "      <td>2933307</td>\n",
       "      <td>False</td>\n",
       "      <td>50.00</td>\n",
       "      <td>6</td>\n",
       "      <td>0.134654</td>\n",
       "      <td>0.131481</td>\n",
       "      <td>116.194058</td>\n",
       "      <td>2.913498</td>\n",
       "      <td>...</td>\n",
       "      <td>0</td>\n",
       "      <td>1</td>\n",
       "      <td>0</td>\n",
       "      <td>Vitória da Conquista</td>\n",
       "      <td>348718</td>\n",
       "      <td>2933307.0</td>\n",
       "      <td>0.678</td>\n",
       "      <td>0.681</td>\n",
       "      <td>0.788</td>\n",
       "      <td>555.66</td>\n",
       "    </tr>\n",
       "    <tr>\n",
       "      <th>1</th>\n",
       "      <td>13</td>\n",
       "      <td>2916401003002</td>\n",
       "      <td>2916401</td>\n",
       "      <td>False</td>\n",
       "      <td>41.00</td>\n",
       "      <td>4</td>\n",
       "      <td>0.116662</td>\n",
       "      <td>0.114995</td>\n",
       "      <td>26.345742</td>\n",
       "      <td>1.312612</td>\n",
       "      <td>...</td>\n",
       "      <td>0</td>\n",
       "      <td>0</td>\n",
       "      <td>0</td>\n",
       "      <td>Itapetinga</td>\n",
       "      <td>77533</td>\n",
       "      <td>2916401.0</td>\n",
       "      <td>0.667</td>\n",
       "      <td>0.667</td>\n",
       "      <td>0.790</td>\n",
       "      <td>506.76</td>\n",
       "    </tr>\n",
       "    <tr>\n",
       "      <th>2</th>\n",
       "      <td>16</td>\n",
       "      <td>2928703003003</td>\n",
       "      <td>2928703</td>\n",
       "      <td>False</td>\n",
       "      <td>42.12</td>\n",
       "      <td>2</td>\n",
       "      <td>0.104162</td>\n",
       "      <td>0.087807</td>\n",
       "      <td>35.362788</td>\n",
       "      <td>1.969512</td>\n",
       "      <td>...</td>\n",
       "      <td>0</td>\n",
       "      <td>0</td>\n",
       "      <td>0</td>\n",
       "      <td>Santo Antônio de Jesus</td>\n",
       "      <td>103342</td>\n",
       "      <td>2928703.0</td>\n",
       "      <td>0.700</td>\n",
       "      <td>0.677</td>\n",
       "      <td>0.815</td>\n",
       "      <td>540.38</td>\n",
       "    </tr>\n",
       "    <tr>\n",
       "      <th>3</th>\n",
       "      <td>21</td>\n",
       "      <td>2906006003001</td>\n",
       "      <td>2906006</td>\n",
       "      <td>False</td>\n",
       "      <td>30.00</td>\n",
       "      <td>6</td>\n",
       "      <td>0.132954</td>\n",
       "      <td>0.131330</td>\n",
       "      <td>9.862757</td>\n",
       "      <td>1.383681</td>\n",
       "      <td>...</td>\n",
       "      <td>0</td>\n",
       "      <td>0</td>\n",
       "      <td>0</td>\n",
       "      <td>Campo Formoso</td>\n",
       "      <td>73448</td>\n",
       "      <td>2906006.0</td>\n",
       "      <td>0.586</td>\n",
       "      <td>0.566</td>\n",
       "      <td>0.749</td>\n",
       "      <td>270.05</td>\n",
       "    </tr>\n",
       "    <tr>\n",
       "      <th>4</th>\n",
       "      <td>28</td>\n",
       "      <td>3550308005058</td>\n",
       "      <td>3550308</td>\n",
       "      <td>True</td>\n",
       "      <td>44.31</td>\n",
       "      <td>8</td>\n",
       "      <td>0.190102</td>\n",
       "      <td>0.179140</td>\n",
       "      <td>5593.905463</td>\n",
       "      <td>2.815883</td>\n",
       "      <td>...</td>\n",
       "      <td>0</td>\n",
       "      <td>1</td>\n",
       "      <td>0</td>\n",
       "      <td>São Paulo</td>\n",
       "      <td>12106920</td>\n",
       "      <td>3550308.0</td>\n",
       "      <td>0.805</td>\n",
       "      <td>0.843</td>\n",
       "      <td>0.855</td>\n",
       "      <td>1516.21</td>\n",
       "    </tr>\n",
       "  </tbody>\n",
       "</table>\n",
       "<p>5 rows × 44 columns</p>\n",
       "</div>"
      ],
      "text/plain": [
       "   cod_loja         cod_ap  cod_municipio  feature_03  feature_04  feature_06  \\\n",
       "0        10  2933307005008        2933307       False       50.00           6   \n",
       "1        13  2916401003002        2916401       False       41.00           4   \n",
       "2        16  2928703003003        2928703       False       42.12           2   \n",
       "3        21  2906006003001        2906006       False       30.00           6   \n",
       "4        28  3550308005058        3550308        True       44.31           8   \n",
       "\n",
       "   feature_07  feature_08   feature_09  feature_10  ...  FEATURE_11_VALUE_07  \\\n",
       "0    0.134654    0.131481   116.194058    2.913498  ...                    0   \n",
       "1    0.116662    0.114995    26.345742    1.312612  ...                    0   \n",
       "2    0.104162    0.087807    35.362788    1.969512  ...                    0   \n",
       "3    0.132954    0.131330     9.862757    1.383681  ...                    0   \n",
       "4    0.190102    0.179140  5593.905463    2.815883  ...                    0   \n",
       "\n",
       "   FEATURE_12_VALUE_01  FEATURE_12_VALUE_02          Espacialidades  \\\n",
       "0                    1                    0    Vitória da Conquista   \n",
       "1                    0                    0              Itapetinga   \n",
       "2                    0                    0  Santo Antônio de Jesus   \n",
       "3                    0                    0           Campo Formoso   \n",
       "4                    1                    0               São Paulo   \n",
       "\n",
       "   População total 2017     Código  IDHM 2010  IDHM Renda 2010  \\\n",
       "0                348718  2933307.0      0.678            0.681   \n",
       "1                 77533  2916401.0      0.667            0.667   \n",
       "2                103342  2928703.0      0.700            0.677   \n",
       "3                 73448  2906006.0      0.586            0.566   \n",
       "4              12106920  3550308.0      0.805            0.843   \n",
       "\n",
       "   IDHM Longevidade 2010  Renda per capita 2010  \n",
       "0                  0.788                 555.66  \n",
       "1                  0.790                 506.76  \n",
       "2                  0.815                 540.38  \n",
       "3                  0.749                 270.05  \n",
       "4                  0.855                1516.21  \n",
       "\n",
       "[5 rows x 44 columns]"
      ]
     },
     "execution_count": 164,
     "metadata": {},
     "output_type": "execute_result"
    }
   ],
   "source": [
    "metadata_cenarios = hot_encoded_cenarios.merge(metadata,how=\"left\",left_on=\"cod_municipio\",right_on=\"Código\")\n",
    "metadata_cenarios.head()"
   ]
  },
  {
   "cell_type": "code",
   "execution_count": 165,
   "metadata": {},
   "outputs": [],
   "source": [
    "metadata_cenarios[\"População total 2017\"] = metadata_cenarios[\"População total 2017\"].astype(float)"
   ]
  },
  {
   "cell_type": "markdown",
   "metadata": {},
   "source": [
    "### Sem usar os dados de IDH e de população"
   ]
  },
  {
   "cell_type": "code",
   "execution_count": 166,
   "metadata": {
    "id": "aHuPJdJjvH44"
   },
   "outputs": [],
   "source": [
    "removed_nan = data.dropna(0,subset=[\"2017_1\"])"
   ]
  },
  {
   "cell_type": "code",
   "execution_count": 167,
   "metadata": {
    "id": "GGqUyL3vuHSt"
   },
   "outputs": [],
   "source": [
    "features = ['cod_municipio', 'feature_03', 'feature_04',\n",
    "       'feature_06', 'feature_07', 'feature_08', 'feature_09', 'feature_10',\n",
    "       'feature_13', 'feature_14', 'feature_15', 'feature_16', 'feature_17',\n",
    "       'feature_18', 'FEATURE_01_VALUE_03', 'FEATURE_01_VALUE_06',\n",
    "       'FEATURE_01_VALUE_08', 'FEATURE_01_VALUE_10', 'FEATURE_02_VALUE_02',\n",
    "       'FEATURE_02_VALUE_03', 'FEATURE_02_VALUE_04', 'FEATURE_02_VALUE_06',\n",
    "       'FEATURE_05_VALUE_01', 'FEATURE_05_VALUE_02', 'FEATURE_05_VALUE_03',\n",
    "       'FEATURE_05_VALUE_04', 'FEATURE_05_VALUE_05', 'FEATURE_05_VALUE_06',\n",
    "       'FEATURE_05_VALUE_07', 'FEATURE_11_VALUE_01',\n",
    "       'FEATURE_11_VALUE_02', 'FEATURE_11_VALUE_06', \n",
    "       'FEATURE_11_VALUE_07', 'FEATURE_12_VALUE_01', 'FEATURE_12_VALUE_02']\n",
    "X = removed_nan[features]\n",
    "target = ['2017_1']\n",
    "Y = removed_nan[target]"
   ]
  },
  {
   "cell_type": "code",
   "execution_count": 168,
   "metadata": {
    "id": "bIDYsdKFujpQ"
   },
   "outputs": [],
   "source": [
    "seed = 7\n",
    "test_size = 0.33\n",
    "X_train, X_test, y_train, y_test = train_test_split(X, Y, test_size=test_size, random_state=seed)"
   ]
  },
  {
   "cell_type": "code",
   "execution_count": 169,
   "metadata": {
    "id": "EnXcZ8zpuoJM"
   },
   "outputs": [],
   "source": [
    "model_jan = xgboost.XGBRegressor(objective=\"reg:squarederror\", random_state=42)"
   ]
  },
  {
   "cell_type": "code",
   "execution_count": 170,
   "metadata": {
    "colab": {
     "base_uri": "https://localhost:8080/"
    },
    "id": "e_AJqqLUuqmM",
    "outputId": "9671ba94-3dfb-4119-b824-3e18355cc0bd"
   },
   "outputs": [
    {
     "name": "stdout",
     "output_type": "stream",
     "text": [
      "Scores: [211.46904359 204.61908169 209.95873883 210.24936426 209.926192  ]\n",
      "Mean: 209.2444840731696\n",
      "Standard deviation: 2.380238727970781\n"
     ]
    }
   ],
   "source": [
    "score = cross_val_score(model_jan, X_train, y_train, scoring=\"neg_root_mean_squared_error\", cv=5)\n",
    "display_scores(np.sqrt(-score))"
   ]
  },
  {
   "cell_type": "code",
   "execution_count": 171,
   "metadata": {
    "colab": {
     "base_uri": "https://localhost:8080/"
    },
    "id": "ksXLtO7gusMw",
    "outputId": "b2424979-d67e-444e-8317-e436e62ef8d9"
   },
   "outputs": [
    {
     "data": {
      "text/plain": [
       "1691359541.0418816"
      ]
     },
     "execution_count": 171,
     "metadata": {},
     "output_type": "execute_result"
    }
   ],
   "source": [
    "model_jan = model_jan.fit(X_train, y_train)\n",
    "y_pred = model_jan.predict(X_test)\n",
    "mean_squared_error(y_test,y_pred)"
   ]
  },
  {
   "cell_type": "code",
   "execution_count": 172,
   "metadata": {
    "colab": {
     "base_uri": "https://localhost:8080/",
     "height": 893
    },
    "id": "knxX4GZ-vnrA",
    "outputId": "9e055286-7817-4367-f848-d1efdf2c5c0e"
   },
   "outputs": [
    {
     "data": {
      "image/png": "[encoded data removed]",
      "text/plain": [
       "<Figure size 1080x1080 with 1 Axes>"
      ]
     },
     "metadata": {},
     "output_type": "display_data"
    }
   ],
   "source": [
    "# plot feature importance\n",
    "fig, ax = plt.subplots(1,1,figsize=(15,15))\n",
    "plot_importance(model_jan, ax=ax)\n",
    "plt.show()"
   ]
  },
  {
   "cell_type": "code",
   "execution_count": 173,
   "metadata": {
    "id": "G0phoxDCpLTz"
   },
   "outputs": [],
   "source": [
    "removed_nan = data.dropna(0,subset=[\"2017_2\"])"
   ]
  },
  {
   "cell_type": "code",
   "execution_count": 174,
   "metadata": {
    "id": "h8OraMr_pInk"
   },
   "outputs": [],
   "source": [
    "features = ['cod_municipio', 'feature_03', 'feature_04',\n",
    "       'feature_06', 'feature_07', 'feature_08', 'feature_09', 'feature_10',\n",
    "       'feature_13', 'feature_14', 'feature_15', 'feature_16', 'feature_17',\n",
    "       'feature_18', 'FEATURE_01_VALUE_03', 'FEATURE_01_VALUE_06',\n",
    "       'FEATURE_01_VALUE_08', 'FEATURE_01_VALUE_10', 'FEATURE_02_VALUE_02',\n",
    "       'FEATURE_02_VALUE_03', 'FEATURE_02_VALUE_04', 'FEATURE_02_VALUE_06',\n",
    "       'FEATURE_05_VALUE_01', 'FEATURE_05_VALUE_02', 'FEATURE_05_VALUE_03',\n",
    "       'FEATURE_05_VALUE_04', 'FEATURE_05_VALUE_05', 'FEATURE_05_VALUE_06',\n",
    "       'FEATURE_05_VALUE_07', 'FEATURE_11_VALUE_01',\n",
    "       'FEATURE_11_VALUE_02', 'FEATURE_11_VALUE_06', \n",
    "       'FEATURE_11_VALUE_07', 'FEATURE_12_VALUE_01', 'FEATURE_12_VALUE_02']\n",
    "X = removed_nan[features]\n",
    "target = ['2017_2']\n",
    "Y = removed_nan[target]"
   ]
  },
  {
   "cell_type": "code",
   "execution_count": 175,
   "metadata": {
    "id": "RNx7i8msoZca"
   },
   "outputs": [],
   "source": [
    "seed = 7\n",
    "test_size = 0.33\n",
    "X_train, X_test, y_train, y_test = train_test_split(X, Y, test_size=test_size, random_state=seed)"
   ]
  },
  {
   "cell_type": "code",
   "execution_count": 176,
   "metadata": {
    "id": "EJCkAwa6oagj"
   },
   "outputs": [],
   "source": [
    "model_fev = xgboost.XGBRegressor(objective=\"reg:squarederror\", random_state=42)"
   ]
  },
  {
   "cell_type": "code",
   "execution_count": 177,
   "metadata": {
    "colab": {
     "base_uri": "https://localhost:8080/"
    },
    "id": "za6lnqzJogbu",
    "outputId": "d079c621-e3a6-4be0-f246-a50481c02188"
   },
   "outputs": [
    {
     "name": "stdout",
     "output_type": "stream",
     "text": [
      "Scores: [194.80968766 191.27043453 188.43191909 191.29277915 188.9326729 ]\n",
      "Mean: 190.9474986657196\n",
      "Standard deviation: 2.2595430271886427\n"
     ]
    }
   ],
   "source": [
    "score = cross_val_score(model_fev, X_train, y_train, scoring=\"neg_root_mean_squared_error\", cv=5)\n",
    "display_scores(np.sqrt(-score))"
   ]
  },
  {
   "cell_type": "code",
   "execution_count": 178,
   "metadata": {
    "colab": {
     "base_uri": "https://localhost:8080/"
    },
    "id": "KWBzlvVvoi98",
    "outputId": "f82b83a3-2c51-4e5c-9e9a-5e8d8a77b9fa"
   },
   "outputs": [
    {
     "data": {
      "text/plain": [
       "1344249711.646313"
      ]
     },
     "execution_count": 178,
     "metadata": {},
     "output_type": "execute_result"
    }
   ],
   "source": [
    "model_fev = model_fev.fit(X_train, y_train)\n",
    "y_pred = model_fev.predict(X_test)\n",
    "mean_squared_error(y_test,y_pred)"
   ]
  },
  {
   "cell_type": "code",
   "execution_count": 179,
   "metadata": {
    "colab": {
     "base_uri": "https://localhost:8080/",
     "height": 893
    },
    "id": "FqacGByiokiP",
    "outputId": "84e4931e-0c9e-4e58-c756-4d805604b030"
   },
   "outputs": [
    {
     "data": {
      "image/png": "[encoded data removed]",
      "text/plain": [
       "<Figure size 1080x1080 with 1 Axes>"
      ]
     },
     "metadata": {},
     "output_type": "display_data"
    }
   ],
   "source": [
    "# plot feature importance\n",
    "fig, ax = plt.subplots(1,1,figsize=(15,15))\n",
    "plot_importance(model_fev, ax=ax)\n",
    "plt.show()"
   ]
  },
  {
   "cell_type": "code",
   "execution_count": 180,
   "metadata": {
    "id": "0RboOmSqpS_9"
   },
   "outputs": [],
   "source": [
    "removed_nan = data.dropna(0,subset=[\"2017_3\"])"
   ]
  },
  {
   "cell_type": "code",
   "execution_count": 181,
   "metadata": {
    "id": "eW0GGdUvosza"
   },
   "outputs": [],
   "source": [
    "features = ['cod_municipio', 'feature_03', 'feature_04',\n",
    "       'feature_06', 'feature_07', 'feature_08', 'feature_09', 'feature_10',\n",
    "       'feature_13', 'feature_14', 'feature_15', 'feature_16', 'feature_17',\n",
    "       'feature_18', 'FEATURE_01_VALUE_03', 'FEATURE_01_VALUE_06',\n",
    "       'FEATURE_01_VALUE_08', 'FEATURE_01_VALUE_10', 'FEATURE_02_VALUE_02',\n",
    "       'FEATURE_02_VALUE_03', 'FEATURE_02_VALUE_04', 'FEATURE_02_VALUE_06',\n",
    "       'FEATURE_05_VALUE_01', 'FEATURE_05_VALUE_02', 'FEATURE_05_VALUE_03',\n",
    "       'FEATURE_05_VALUE_04', 'FEATURE_05_VALUE_05', 'FEATURE_05_VALUE_06',\n",
    "       'FEATURE_05_VALUE_07', 'FEATURE_11_VALUE_01',\n",
    "       'FEATURE_11_VALUE_02', 'FEATURE_11_VALUE_06', \n",
    "       'FEATURE_11_VALUE_07', 'FEATURE_12_VALUE_01', 'FEATURE_12_VALUE_02']\n",
    "X = removed_nan[features]\n",
    "target = ['2017_3']\n",
    "Y = removed_nan[target]"
   ]
  },
  {
   "cell_type": "code",
   "execution_count": 182,
   "metadata": {
    "id": "fCEpMED0otEC"
   },
   "outputs": [],
   "source": [
    "seed = 7\n",
    "test_size = 0.33\n",
    "X_train, X_test, y_train, y_test = train_test_split(X, Y, test_size=test_size, random_state=seed)"
   ]
  },
  {
   "cell_type": "code",
   "execution_count": 183,
   "metadata": {
    "id": "e5gpRJkJotKh"
   },
   "outputs": [],
   "source": [
    "model_mar = xgboost.XGBRegressor(objective=\"reg:squarederror\", random_state=42)"
   ]
  },
  {
   "cell_type": "code",
   "execution_count": 184,
   "metadata": {
    "colab": {
     "base_uri": "https://localhost:8080/"
    },
    "id": "4wxyFujwos-E",
    "outputId": "8a794826-1577-41df-a282-a6bf6f02c28a"
   },
   "outputs": [
    {
     "name": "stdout",
     "output_type": "stream",
     "text": [
      "Scores: [214.90051675 199.37031575 206.69272121 211.49807822 209.10123229]\n",
      "Mean: 208.3125728437868\n",
      "Standard deviation: 5.2298817282146866\n"
     ]
    }
   ],
   "source": [
    "score = cross_val_score(model_mar, X_train, y_train, scoring=\"neg_root_mean_squared_error\", cv=5)\n",
    "display_scores(np.sqrt(-score))"
   ]
  },
  {
   "cell_type": "code",
   "execution_count": 185,
   "metadata": {
    "colab": {
     "base_uri": "https://localhost:8080/"
    },
    "id": "-idMiDX6osml",
    "outputId": "ddce880a-6fe5-4c93-a095-8e01300ff935"
   },
   "outputs": [
    {
     "data": {
      "text/plain": [
       "1742131085.0023522"
      ]
     },
     "execution_count": 185,
     "metadata": {},
     "output_type": "execute_result"
    }
   ],
   "source": [
    "model_mar= model_mar.fit(X_train, y_train)\n",
    "y_pred = model_mar.predict(X_test)\n",
    "mean_squared_error(y_test,y_pred)"
   ]
  },
  {
   "cell_type": "code",
   "execution_count": 186,
   "metadata": {
    "colab": {
     "base_uri": "https://localhost:8080/",
     "height": 893
    },
    "id": "1YFGnXcOox2b",
    "outputId": "55d0f2bd-0faa-4e33-c383-1e3a6d17b224"
   },
   "outputs": [
    {
     "data": {
      "image/png": "[encoded data removed]",
      "text/plain": [
       "<Figure size 1080x1080 with 1 Axes>"
      ]
     },
     "metadata": {},
     "output_type": "display_data"
    }
   ],
   "source": [
    "# plot feature importance\n",
    "fig, ax = plt.subplots(1,1,figsize=(15,15))\n",
    "plot_importance(model_mar, ax=ax)\n",
    "plt.show()"
   ]
  },
  {
   "cell_type": "code",
   "execution_count": 187,
   "metadata": {
    "colab": {
     "base_uri": "https://localhost:8080/",
     "height": 439
    },
    "id": "xuAXGBNqp9rj",
    "outputId": "32eba0e6-3307-4959-ae30-045a99844e1d"
   },
   "outputs": [
    {
     "data": {
      "text/html": [
       "<div>\n",
       "<style scoped>\n",
       "    .dataframe tbody tr th:only-of-type {\n",
       "        vertical-align: middle;\n",
       "    }\n",
       "\n",
       "    .dataframe tbody tr th {\n",
       "        vertical-align: top;\n",
       "    }\n",
       "\n",
       "    .dataframe thead th {\n",
       "        text-align: right;\n",
       "    }\n",
       "</style>\n",
       "<table border=\"1\" class=\"dataframe\">\n",
       "  <thead>\n",
       "    <tr style=\"text-align: right;\">\n",
       "      <th></th>\n",
       "      <th>cod_loja</th>\n",
       "      <th>cod_ap</th>\n",
       "      <th>cod_municipio</th>\n",
       "      <th>feature_01</th>\n",
       "      <th>feature_02</th>\n",
       "      <th>feature_03</th>\n",
       "      <th>feature_04</th>\n",
       "      <th>feature_05</th>\n",
       "      <th>feature_06</th>\n",
       "      <th>feature_07</th>\n",
       "      <th>...</th>\n",
       "      <th>feature_09</th>\n",
       "      <th>feature_10</th>\n",
       "      <th>feature_11</th>\n",
       "      <th>feature_12</th>\n",
       "      <th>feature_13</th>\n",
       "      <th>feature_14</th>\n",
       "      <th>feature_15</th>\n",
       "      <th>feature_16</th>\n",
       "      <th>feature_17</th>\n",
       "      <th>feature_18</th>\n",
       "    </tr>\n",
       "  </thead>\n",
       "  <tbody>\n",
       "    <tr>\n",
       "      <th>0</th>\n",
       "      <td>10</td>\n",
       "      <td>2933307005008</td>\n",
       "      <td>2933307</td>\n",
       "      <td>FEATURE_01_VALUE_08</td>\n",
       "      <td>FEATURE_02_VALUE_02</td>\n",
       "      <td>False</td>\n",
       "      <td>50.00</td>\n",
       "      <td>FEATURE_05_VALUE_03</td>\n",
       "      <td>6</td>\n",
       "      <td>0.134654</td>\n",
       "      <td>...</td>\n",
       "      <td>116.194058</td>\n",
       "      <td>2.913498</td>\n",
       "      <td>FEATURE_11_VALUE_01</td>\n",
       "      <td>FEATURE_12_VALUE_01</td>\n",
       "      <td>100.0</td>\n",
       "      <td>93.4</td>\n",
       "      <td>100.0</td>\n",
       "      <td>100.0</td>\n",
       "      <td>71.7</td>\n",
       "      <td>88.8</td>\n",
       "    </tr>\n",
       "    <tr>\n",
       "      <th>1</th>\n",
       "      <td>13</td>\n",
       "      <td>2916401003002</td>\n",
       "      <td>2916401</td>\n",
       "      <td>FEATURE_01_VALUE_10</td>\n",
       "      <td>FEATURE_02_VALUE_04</td>\n",
       "      <td>False</td>\n",
       "      <td>41.00</td>\n",
       "      <td>FEATURE_05_VALUE_03</td>\n",
       "      <td>4</td>\n",
       "      <td>0.116662</td>\n",
       "      <td>...</td>\n",
       "      <td>26.345742</td>\n",
       "      <td>1.312612</td>\n",
       "      <td>NaN</td>\n",
       "      <td>NaN</td>\n",
       "      <td>84.3</td>\n",
       "      <td>77.5</td>\n",
       "      <td>100.0</td>\n",
       "      <td>100.0</td>\n",
       "      <td>63.5</td>\n",
       "      <td>78.8</td>\n",
       "    </tr>\n",
       "    <tr>\n",
       "      <th>2</th>\n",
       "      <td>16</td>\n",
       "      <td>2928703003003</td>\n",
       "      <td>2928703</td>\n",
       "      <td>NaN</td>\n",
       "      <td>FEATURE_02_VALUE_04</td>\n",
       "      <td>False</td>\n",
       "      <td>42.12</td>\n",
       "      <td>FEATURE_05_VALUE_05</td>\n",
       "      <td>2</td>\n",
       "      <td>0.104162</td>\n",
       "      <td>...</td>\n",
       "      <td>35.362788</td>\n",
       "      <td>1.969512</td>\n",
       "      <td>NaN</td>\n",
       "      <td>NaN</td>\n",
       "      <td>NaN</td>\n",
       "      <td>NaN</td>\n",
       "      <td>NaN</td>\n",
       "      <td>NaN</td>\n",
       "      <td>NaN</td>\n",
       "      <td>NaN</td>\n",
       "    </tr>\n",
       "    <tr>\n",
       "      <th>3</th>\n",
       "      <td>21</td>\n",
       "      <td>2906006003001</td>\n",
       "      <td>2906006</td>\n",
       "      <td>NaN</td>\n",
       "      <td>FEATURE_02_VALUE_04</td>\n",
       "      <td>False</td>\n",
       "      <td>30.00</td>\n",
       "      <td>FEATURE_05_VALUE_03</td>\n",
       "      <td>6</td>\n",
       "      <td>0.132954</td>\n",
       "      <td>...</td>\n",
       "      <td>9.862757</td>\n",
       "      <td>1.383681</td>\n",
       "      <td>NaN</td>\n",
       "      <td>NaN</td>\n",
       "      <td>85.0</td>\n",
       "      <td>76.9</td>\n",
       "      <td>100.0</td>\n",
       "      <td>100.0</td>\n",
       "      <td>100.0</td>\n",
       "      <td>92.9</td>\n",
       "    </tr>\n",
       "    <tr>\n",
       "      <th>4</th>\n",
       "      <td>28</td>\n",
       "      <td>3550308005058</td>\n",
       "      <td>3550308</td>\n",
       "      <td>FEATURE_01_VALUE_10</td>\n",
       "      <td>FEATURE_02_VALUE_02</td>\n",
       "      <td>True</td>\n",
       "      <td>44.31</td>\n",
       "      <td>FEATURE_05_VALUE_03</td>\n",
       "      <td>8</td>\n",
       "      <td>0.190102</td>\n",
       "      <td>...</td>\n",
       "      <td>5593.905463</td>\n",
       "      <td>2.815883</td>\n",
       "      <td>FEATURE_11_VALUE_02</td>\n",
       "      <td>FEATURE_12_VALUE_01</td>\n",
       "      <td>NaN</td>\n",
       "      <td>NaN</td>\n",
       "      <td>NaN</td>\n",
       "      <td>NaN</td>\n",
       "      <td>NaN</td>\n",
       "      <td>NaN</td>\n",
       "    </tr>\n",
       "    <tr>\n",
       "      <th>...</th>\n",
       "      <td>...</td>\n",
       "      <td>...</td>\n",
       "      <td>...</td>\n",
       "      <td>...</td>\n",
       "      <td>...</td>\n",
       "      <td>...</td>\n",
       "      <td>...</td>\n",
       "      <td>...</td>\n",
       "      <td>...</td>\n",
       "      <td>...</td>\n",
       "      <td>...</td>\n",
       "      <td>...</td>\n",
       "      <td>...</td>\n",
       "      <td>...</td>\n",
       "      <td>...</td>\n",
       "      <td>...</td>\n",
       "      <td>...</td>\n",
       "      <td>...</td>\n",
       "      <td>...</td>\n",
       "      <td>...</td>\n",
       "      <td>...</td>\n",
       "    </tr>\n",
       "    <tr>\n",
       "      <th>548</th>\n",
       "      <td>3667</td>\n",
       "      <td>2927408005009</td>\n",
       "      <td>2927408</td>\n",
       "      <td>FEATURE_01_VALUE_03</td>\n",
       "      <td>FEATURE_02_VALUE_03</td>\n",
       "      <td>True</td>\n",
       "      <td>11.47</td>\n",
       "      <td>FEATURE_05_VALUE_06</td>\n",
       "      <td>3</td>\n",
       "      <td>0.107963</td>\n",
       "      <td>...</td>\n",
       "      <td>1355.486603</td>\n",
       "      <td>4.142294</td>\n",
       "      <td>NaN</td>\n",
       "      <td>NaN</td>\n",
       "      <td>NaN</td>\n",
       "      <td>NaN</td>\n",
       "      <td>NaN</td>\n",
       "      <td>NaN</td>\n",
       "      <td>NaN</td>\n",
       "      <td>NaN</td>\n",
       "    </tr>\n",
       "    <tr>\n",
       "      <th>549</th>\n",
       "      <td>3672</td>\n",
       "      <td>-1</td>\n",
       "      <td>-1</td>\n",
       "      <td>NaN</td>\n",
       "      <td>FEATURE_02_VALUE_03</td>\n",
       "      <td>False</td>\n",
       "      <td>31.00</td>\n",
       "      <td>FEATURE_05_VALUE_05</td>\n",
       "      <td>5</td>\n",
       "      <td>0.190896</td>\n",
       "      <td>...</td>\n",
       "      <td>32.409193</td>\n",
       "      <td>2.989030</td>\n",
       "      <td>NaN</td>\n",
       "      <td>NaN</td>\n",
       "      <td>NaN</td>\n",
       "      <td>NaN</td>\n",
       "      <td>NaN</td>\n",
       "      <td>NaN</td>\n",
       "      <td>NaN</td>\n",
       "      <td>NaN</td>\n",
       "    </tr>\n",
       "    <tr>\n",
       "      <th>550</th>\n",
       "      <td>3674</td>\n",
       "      <td>5208707005001</td>\n",
       "      <td>5208707</td>\n",
       "      <td>NaN</td>\n",
       "      <td>FEATURE_02_VALUE_03</td>\n",
       "      <td>False</td>\n",
       "      <td>58.00</td>\n",
       "      <td>FEATURE_05_VALUE_05</td>\n",
       "      <td>9</td>\n",
       "      <td>0.190896</td>\n",
       "      <td>...</td>\n",
       "      <td>661.415873</td>\n",
       "      <td>2.795840</td>\n",
       "      <td>NaN</td>\n",
       "      <td>NaN</td>\n",
       "      <td>100.0</td>\n",
       "      <td>78.3</td>\n",
       "      <td>100.0</td>\n",
       "      <td>100.0</td>\n",
       "      <td>60.6</td>\n",
       "      <td>81.1</td>\n",
       "    </tr>\n",
       "    <tr>\n",
       "      <th>551</th>\n",
       "      <td>3675</td>\n",
       "      <td>4218202003002</td>\n",
       "      <td>4218202</td>\n",
       "      <td>NaN</td>\n",
       "      <td>FEATURE_02_VALUE_04</td>\n",
       "      <td>False</td>\n",
       "      <td>40.74</td>\n",
       "      <td>FEATURE_05_VALUE_03</td>\n",
       "      <td>4</td>\n",
       "      <td>0.133754</td>\n",
       "      <td>...</td>\n",
       "      <td>20.027909</td>\n",
       "      <td>2.422305</td>\n",
       "      <td>NaN</td>\n",
       "      <td>NaN</td>\n",
       "      <td>100.0</td>\n",
       "      <td>92.5</td>\n",
       "      <td>100.0</td>\n",
       "      <td>100.0</td>\n",
       "      <td>94.2</td>\n",
       "      <td>96.6</td>\n",
       "    </tr>\n",
       "    <tr>\n",
       "      <th>552</th>\n",
       "      <td>3684</td>\n",
       "      <td>2917607003002</td>\n",
       "      <td>2917607</td>\n",
       "      <td>NaN</td>\n",
       "      <td>FEATURE_02_VALUE_04</td>\n",
       "      <td>False</td>\n",
       "      <td>29.00</td>\n",
       "      <td>FEATURE_05_VALUE_03</td>\n",
       "      <td>5</td>\n",
       "      <td>0.123648</td>\n",
       "      <td>...</td>\n",
       "      <td>14.781510</td>\n",
       "      <td>1.803459</td>\n",
       "      <td>NaN</td>\n",
       "      <td>NaN</td>\n",
       "      <td>77.0</td>\n",
       "      <td>100.0</td>\n",
       "      <td>100.0</td>\n",
       "      <td>50.0</td>\n",
       "      <td>99.7</td>\n",
       "      <td>85.6</td>\n",
       "    </tr>\n",
       "  </tbody>\n",
       "</table>\n",
       "<p>553 rows × 21 columns</p>\n",
       "</div>"
      ],
      "text/plain": [
       "     cod_loja         cod_ap  cod_municipio           feature_01  \\\n",
       "0          10  2933307005008        2933307  FEATURE_01_VALUE_08   \n",
       "1          13  2916401003002        2916401  FEATURE_01_VALUE_10   \n",
       "2          16  2928703003003        2928703                  NaN   \n",
       "3          21  2906006003001        2906006                  NaN   \n",
       "4          28  3550308005058        3550308  FEATURE_01_VALUE_10   \n",
       "..        ...            ...            ...                  ...   \n",
       "548      3667  2927408005009        2927408  FEATURE_01_VALUE_03   \n",
       "549      3672             -1             -1                  NaN   \n",
       "550      3674  5208707005001        5208707                  NaN   \n",
       "551      3675  4218202003002        4218202                  NaN   \n",
       "552      3684  2917607003002        2917607                  NaN   \n",
       "\n",
       "              feature_02  feature_03  feature_04           feature_05  \\\n",
       "0    FEATURE_02_VALUE_02       False       50.00  FEATURE_05_VALUE_03   \n",
       "1    FEATURE_02_VALUE_04       False       41.00  FEATURE_05_VALUE_03   \n",
       "2    FEATURE_02_VALUE_04       False       42.12  FEATURE_05_VALUE_05   \n",
       "3    FEATURE_02_VALUE_04       False       30.00  FEATURE_05_VALUE_03   \n",
       "4    FEATURE_02_VALUE_02        True       44.31  FEATURE_05_VALUE_03   \n",
       "..                   ...         ...         ...                  ...   \n",
       "548  FEATURE_02_VALUE_03        True       11.47  FEATURE_05_VALUE_06   \n",
       "549  FEATURE_02_VALUE_03       False       31.00  FEATURE_05_VALUE_05   \n",
       "550  FEATURE_02_VALUE_03       False       58.00  FEATURE_05_VALUE_05   \n",
       "551  FEATURE_02_VALUE_04       False       40.74  FEATURE_05_VALUE_03   \n",
       "552  FEATURE_02_VALUE_04       False       29.00  FEATURE_05_VALUE_03   \n",
       "\n",
       "     feature_06  feature_07  ...   feature_09  feature_10  \\\n",
       "0             6    0.134654  ...   116.194058    2.913498   \n",
       "1             4    0.116662  ...    26.345742    1.312612   \n",
       "2             2    0.104162  ...    35.362788    1.969512   \n",
       "3             6    0.132954  ...     9.862757    1.383681   \n",
       "4             8    0.190102  ...  5593.905463    2.815883   \n",
       "..          ...         ...  ...          ...         ...   \n",
       "548           3    0.107963  ...  1355.486603    4.142294   \n",
       "549           5    0.190896  ...    32.409193    2.989030   \n",
       "550           9    0.190896  ...   661.415873    2.795840   \n",
       "551           4    0.133754  ...    20.027909    2.422305   \n",
       "552           5    0.123648  ...    14.781510    1.803459   \n",
       "\n",
       "              feature_11           feature_12 feature_13  feature_14  \\\n",
       "0    FEATURE_11_VALUE_01  FEATURE_12_VALUE_01      100.0        93.4   \n",
       "1                    NaN                  NaN       84.3        77.5   \n",
       "2                    NaN                  NaN        NaN         NaN   \n",
       "3                    NaN                  NaN       85.0        76.9   \n",
       "4    FEATURE_11_VALUE_02  FEATURE_12_VALUE_01        NaN         NaN   \n",
       "..                   ...                  ...        ...         ...   \n",
       "548                  NaN                  NaN        NaN         NaN   \n",
       "549                  NaN                  NaN        NaN         NaN   \n",
       "550                  NaN                  NaN      100.0        78.3   \n",
       "551                  NaN                  NaN      100.0        92.5   \n",
       "552                  NaN                  NaN       77.0       100.0   \n",
       "\n",
       "     feature_15  feature_16  feature_17  feature_18  \n",
       "0         100.0       100.0        71.7        88.8  \n",
       "1         100.0       100.0        63.5        78.8  \n",
       "2           NaN         NaN         NaN         NaN  \n",
       "3         100.0       100.0       100.0        92.9  \n",
       "4           NaN         NaN         NaN         NaN  \n",
       "..          ...         ...         ...         ...  \n",
       "548         NaN         NaN         NaN         NaN  \n",
       "549         NaN         NaN         NaN         NaN  \n",
       "550       100.0       100.0        60.6        81.1  \n",
       "551       100.0       100.0        94.2        96.6  \n",
       "552       100.0        50.0        99.7        85.6  \n",
       "\n",
       "[553 rows x 21 columns]"
      ]
     },
     "execution_count": 187,
     "metadata": {},
     "output_type": "execute_result"
    }
   ],
   "source": [
    "cenarios"
   ]
  },
  {
   "cell_type": "code",
   "execution_count": 188,
   "metadata": {
    "colab": {
     "base_uri": "https://localhost:8080/",
     "height": 224
    },
    "id": "0oM80A9S1swo",
    "outputId": "60251605-b7ef-4f49-cd6a-dc3bb1b7c3bb"
   },
   "outputs": [
    {
     "data": {
      "text/html": [
       "<div>\n",
       "<style scoped>\n",
       "    .dataframe tbody tr th:only-of-type {\n",
       "        vertical-align: middle;\n",
       "    }\n",
       "\n",
       "    .dataframe tbody tr th {\n",
       "        vertical-align: top;\n",
       "    }\n",
       "\n",
       "    .dataframe thead th {\n",
       "        text-align: right;\n",
       "    }\n",
       "</style>\n",
       "<table border=\"1\" class=\"dataframe\">\n",
       "  <thead>\n",
       "    <tr style=\"text-align: right;\">\n",
       "      <th></th>\n",
       "      <th>cod_loja</th>\n",
       "      <th>cod_ap</th>\n",
       "      <th>cod_municipio</th>\n",
       "      <th>feature_03</th>\n",
       "      <th>feature_04</th>\n",
       "      <th>feature_06</th>\n",
       "      <th>feature_07</th>\n",
       "      <th>feature_08</th>\n",
       "      <th>feature_09</th>\n",
       "      <th>feature_10</th>\n",
       "      <th>...</th>\n",
       "      <th>FEATURE_05_VALUE_04</th>\n",
       "      <th>FEATURE_05_VALUE_05</th>\n",
       "      <th>FEATURE_05_VALUE_06</th>\n",
       "      <th>FEATURE_05_VALUE_07</th>\n",
       "      <th>FEATURE_11_VALUE_01</th>\n",
       "      <th>FEATURE_11_VALUE_02</th>\n",
       "      <th>FEATURE_11_VALUE_06</th>\n",
       "      <th>FEATURE_11_VALUE_07</th>\n",
       "      <th>FEATURE_12_VALUE_01</th>\n",
       "      <th>FEATURE_12_VALUE_02</th>\n",
       "    </tr>\n",
       "  </thead>\n",
       "  <tbody>\n",
       "    <tr>\n",
       "      <th>0</th>\n",
       "      <td>10</td>\n",
       "      <td>2933307005008</td>\n",
       "      <td>2933307</td>\n",
       "      <td>False</td>\n",
       "      <td>50.00</td>\n",
       "      <td>6</td>\n",
       "      <td>0.134654</td>\n",
       "      <td>0.131481</td>\n",
       "      <td>116.194058</td>\n",
       "      <td>2.913498</td>\n",
       "      <td>...</td>\n",
       "      <td>0</td>\n",
       "      <td>0</td>\n",
       "      <td>0</td>\n",
       "      <td>0</td>\n",
       "      <td>1</td>\n",
       "      <td>0</td>\n",
       "      <td>0</td>\n",
       "      <td>0</td>\n",
       "      <td>1</td>\n",
       "      <td>0</td>\n",
       "    </tr>\n",
       "    <tr>\n",
       "      <th>1</th>\n",
       "      <td>13</td>\n",
       "      <td>2916401003002</td>\n",
       "      <td>2916401</td>\n",
       "      <td>False</td>\n",
       "      <td>41.00</td>\n",
       "      <td>4</td>\n",
       "      <td>0.116662</td>\n",
       "      <td>0.114995</td>\n",
       "      <td>26.345742</td>\n",
       "      <td>1.312612</td>\n",
       "      <td>...</td>\n",
       "      <td>0</td>\n",
       "      <td>0</td>\n",
       "      <td>0</td>\n",
       "      <td>0</td>\n",
       "      <td>0</td>\n",
       "      <td>0</td>\n",
       "      <td>0</td>\n",
       "      <td>0</td>\n",
       "      <td>0</td>\n",
       "      <td>0</td>\n",
       "    </tr>\n",
       "    <tr>\n",
       "      <th>2</th>\n",
       "      <td>16</td>\n",
       "      <td>2928703003003</td>\n",
       "      <td>2928703</td>\n",
       "      <td>False</td>\n",
       "      <td>42.12</td>\n",
       "      <td>2</td>\n",
       "      <td>0.104162</td>\n",
       "      <td>0.087807</td>\n",
       "      <td>35.362788</td>\n",
       "      <td>1.969512</td>\n",
       "      <td>...</td>\n",
       "      <td>0</td>\n",
       "      <td>1</td>\n",
       "      <td>0</td>\n",
       "      <td>0</td>\n",
       "      <td>0</td>\n",
       "      <td>0</td>\n",
       "      <td>0</td>\n",
       "      <td>0</td>\n",
       "      <td>0</td>\n",
       "      <td>0</td>\n",
       "    </tr>\n",
       "    <tr>\n",
       "      <th>3</th>\n",
       "      <td>21</td>\n",
       "      <td>2906006003001</td>\n",
       "      <td>2906006</td>\n",
       "      <td>False</td>\n",
       "      <td>30.00</td>\n",
       "      <td>6</td>\n",
       "      <td>0.132954</td>\n",
       "      <td>0.131330</td>\n",
       "      <td>9.862757</td>\n",
       "      <td>1.383681</td>\n",
       "      <td>...</td>\n",
       "      <td>0</td>\n",
       "      <td>0</td>\n",
       "      <td>0</td>\n",
       "      <td>0</td>\n",
       "      <td>0</td>\n",
       "      <td>0</td>\n",
       "      <td>0</td>\n",
       "      <td>0</td>\n",
       "      <td>0</td>\n",
       "      <td>0</td>\n",
       "    </tr>\n",
       "    <tr>\n",
       "      <th>4</th>\n",
       "      <td>28</td>\n",
       "      <td>3550308005058</td>\n",
       "      <td>3550308</td>\n",
       "      <td>True</td>\n",
       "      <td>44.31</td>\n",
       "      <td>8</td>\n",
       "      <td>0.190102</td>\n",
       "      <td>0.179140</td>\n",
       "      <td>5593.905463</td>\n",
       "      <td>2.815883</td>\n",
       "      <td>...</td>\n",
       "      <td>0</td>\n",
       "      <td>0</td>\n",
       "      <td>0</td>\n",
       "      <td>0</td>\n",
       "      <td>0</td>\n",
       "      <td>1</td>\n",
       "      <td>0</td>\n",
       "      <td>0</td>\n",
       "      <td>1</td>\n",
       "      <td>0</td>\n",
       "    </tr>\n",
       "  </tbody>\n",
       "</table>\n",
       "<p>5 rows × 37 columns</p>\n",
       "</div>"
      ],
      "text/plain": [
       "   cod_loja         cod_ap  cod_municipio  feature_03  feature_04  feature_06  \\\n",
       "0        10  2933307005008        2933307       False       50.00           6   \n",
       "1        13  2916401003002        2916401       False       41.00           4   \n",
       "2        16  2928703003003        2928703       False       42.12           2   \n",
       "3        21  2906006003001        2906006       False       30.00           6   \n",
       "4        28  3550308005058        3550308        True       44.31           8   \n",
       "\n",
       "   feature_07  feature_08   feature_09  feature_10  ...  FEATURE_05_VALUE_04  \\\n",
       "0    0.134654    0.131481   116.194058    2.913498  ...                    0   \n",
       "1    0.116662    0.114995    26.345742    1.312612  ...                    0   \n",
       "2    0.104162    0.087807    35.362788    1.969512  ...                    0   \n",
       "3    0.132954    0.131330     9.862757    1.383681  ...                    0   \n",
       "4    0.190102    0.179140  5593.905463    2.815883  ...                    0   \n",
       "\n",
       "   FEATURE_05_VALUE_05  FEATURE_05_VALUE_06  FEATURE_05_VALUE_07  \\\n",
       "0                    0                    0                    0   \n",
       "1                    0                    0                    0   \n",
       "2                    1                    0                    0   \n",
       "3                    0                    0                    0   \n",
       "4                    0                    0                    0   \n",
       "\n",
       "   FEATURE_11_VALUE_01  FEATURE_11_VALUE_02  FEATURE_11_VALUE_06  \\\n",
       "0                    1                    0                    0   \n",
       "1                    0                    0                    0   \n",
       "2                    0                    0                    0   \n",
       "3                    0                    0                    0   \n",
       "4                    0                    1                    0   \n",
       "\n",
       "   FEATURE_11_VALUE_07  FEATURE_12_VALUE_01  FEATURE_12_VALUE_02  \n",
       "0                    0                    1                    0  \n",
       "1                    0                    0                    0  \n",
       "2                    0                    0                    0  \n",
       "3                    0                    0                    0  \n",
       "4                    0                    1                    0  \n",
       "\n",
       "[5 rows x 37 columns]"
      ]
     },
     "execution_count": 188,
     "metadata": {},
     "output_type": "execute_result"
    }
   ],
   "source": [
    "feature_01_dummy = pd.get_dummies(cenarios.feature_01)\n",
    "feature_02_dummy = pd.get_dummies(cenarios.feature_02)\n",
    "feature_05_dummy = pd.get_dummies(cenarios.feature_05)\n",
    "feature_11_dummy = pd.get_dummies(cenarios.feature_11)\n",
    "feature_12_dummy = pd.get_dummies(cenarios.feature_12)\n",
    "hot_encoded_cenarios = pd.concat([cenarios,feature_01_dummy,feature_02_dummy,feature_05_dummy,feature_11_dummy,feature_12_dummy],axis=1)\n",
    "hot_encoded_cenarios = hot_encoded_cenarios.drop(columns=[\"feature_01\",\"feature_02\",\"feature_05\",\"feature_11\",\"feature_12\"])\n",
    "hot_encoded_cenarios.head()"
   ]
  },
  {
   "cell_type": "code",
   "execution_count": 189,
   "metadata": {
    "colab": {
     "base_uri": "https://localhost:8080/",
     "height": 309
    },
    "id": "ypa8YJrv12RW",
    "outputId": "352c4366-ed1c-4ddf-8772-1d8aa1c0d216"
   },
   "outputs": [
    {
     "data": {
      "text/html": [
       "<div>\n",
       "<style scoped>\n",
       "    .dataframe tbody tr th:only-of-type {\n",
       "        vertical-align: middle;\n",
       "    }\n",
       "\n",
       "    .dataframe tbody tr th {\n",
       "        vertical-align: top;\n",
       "    }\n",
       "\n",
       "    .dataframe thead th {\n",
       "        text-align: right;\n",
       "    }\n",
       "</style>\n",
       "<table border=\"1\" class=\"dataframe\">\n",
       "  <thead>\n",
       "    <tr style=\"text-align: right;\">\n",
       "      <th></th>\n",
       "      <th>cod_loja</th>\n",
       "      <th>cod_ap</th>\n",
       "      <th>cod_municipio</th>\n",
       "      <th>feature_03</th>\n",
       "      <th>feature_04</th>\n",
       "      <th>feature_06</th>\n",
       "      <th>feature_07</th>\n",
       "      <th>feature_08</th>\n",
       "      <th>feature_09</th>\n",
       "      <th>feature_10</th>\n",
       "      <th>...</th>\n",
       "      <th>FEATURE_11_VALUE_07</th>\n",
       "      <th>FEATURE_12_VALUE_01</th>\n",
       "      <th>FEATURE_12_VALUE_02</th>\n",
       "      <th>Espacialidades</th>\n",
       "      <th>População total 2017</th>\n",
       "      <th>Código</th>\n",
       "      <th>IDHM 2010</th>\n",
       "      <th>IDHM Renda 2010</th>\n",
       "      <th>IDHM Longevidade 2010</th>\n",
       "      <th>Renda per capita 2010</th>\n",
       "    </tr>\n",
       "  </thead>\n",
       "  <tbody>\n",
       "    <tr>\n",
       "      <th>0</th>\n",
       "      <td>10</td>\n",
       "      <td>2933307005008</td>\n",
       "      <td>2933307</td>\n",
       "      <td>False</td>\n",
       "      <td>50.00</td>\n",
       "      <td>6</td>\n",
       "      <td>0.134654</td>\n",
       "      <td>0.131481</td>\n",
       "      <td>116.194058</td>\n",
       "      <td>2.913498</td>\n",
       "      <td>...</td>\n",
       "      <td>0</td>\n",
       "      <td>1</td>\n",
       "      <td>0</td>\n",
       "      <td>Vitória da Conquista</td>\n",
       "      <td>348718</td>\n",
       "      <td>2933307.0</td>\n",
       "      <td>0.678</td>\n",
       "      <td>0.681</td>\n",
       "      <td>0.788</td>\n",
       "      <td>555.66</td>\n",
       "    </tr>\n",
       "    <tr>\n",
       "      <th>1</th>\n",
       "      <td>13</td>\n",
       "      <td>2916401003002</td>\n",
       "      <td>2916401</td>\n",
       "      <td>False</td>\n",
       "      <td>41.00</td>\n",
       "      <td>4</td>\n",
       "      <td>0.116662</td>\n",
       "      <td>0.114995</td>\n",
       "      <td>26.345742</td>\n",
       "      <td>1.312612</td>\n",
       "      <td>...</td>\n",
       "      <td>0</td>\n",
       "      <td>0</td>\n",
       "      <td>0</td>\n",
       "      <td>Itapetinga</td>\n",
       "      <td>77533</td>\n",
       "      <td>2916401.0</td>\n",
       "      <td>0.667</td>\n",
       "      <td>0.667</td>\n",
       "      <td>0.790</td>\n",
       "      <td>506.76</td>\n",
       "    </tr>\n",
       "    <tr>\n",
       "      <th>2</th>\n",
       "      <td>16</td>\n",
       "      <td>2928703003003</td>\n",
       "      <td>2928703</td>\n",
       "      <td>False</td>\n",
       "      <td>42.12</td>\n",
       "      <td>2</td>\n",
       "      <td>0.104162</td>\n",
       "      <td>0.087807</td>\n",
       "      <td>35.362788</td>\n",
       "      <td>1.969512</td>\n",
       "      <td>...</td>\n",
       "      <td>0</td>\n",
       "      <td>0</td>\n",
       "      <td>0</td>\n",
       "      <td>Santo Antônio de Jesus</td>\n",
       "      <td>103342</td>\n",
       "      <td>2928703.0</td>\n",
       "      <td>0.700</td>\n",
       "      <td>0.677</td>\n",
       "      <td>0.815</td>\n",
       "      <td>540.38</td>\n",
       "    </tr>\n",
       "    <tr>\n",
       "      <th>3</th>\n",
       "      <td>21</td>\n",
       "      <td>2906006003001</td>\n",
       "      <td>2906006</td>\n",
       "      <td>False</td>\n",
       "      <td>30.00</td>\n",
       "      <td>6</td>\n",
       "      <td>0.132954</td>\n",
       "      <td>0.131330</td>\n",
       "      <td>9.862757</td>\n",
       "      <td>1.383681</td>\n",
       "      <td>...</td>\n",
       "      <td>0</td>\n",
       "      <td>0</td>\n",
       "      <td>0</td>\n",
       "      <td>Campo Formoso</td>\n",
       "      <td>73448</td>\n",
       "      <td>2906006.0</td>\n",
       "      <td>0.586</td>\n",
       "      <td>0.566</td>\n",
       "      <td>0.749</td>\n",
       "      <td>270.05</td>\n",
       "    </tr>\n",
       "    <tr>\n",
       "      <th>4</th>\n",
       "      <td>28</td>\n",
       "      <td>3550308005058</td>\n",
       "      <td>3550308</td>\n",
       "      <td>True</td>\n",
       "      <td>44.31</td>\n",
       "      <td>8</td>\n",
       "      <td>0.190102</td>\n",
       "      <td>0.179140</td>\n",
       "      <td>5593.905463</td>\n",
       "      <td>2.815883</td>\n",
       "      <td>...</td>\n",
       "      <td>0</td>\n",
       "      <td>1</td>\n",
       "      <td>0</td>\n",
       "      <td>São Paulo</td>\n",
       "      <td>12106920</td>\n",
       "      <td>3550308.0</td>\n",
       "      <td>0.805</td>\n",
       "      <td>0.843</td>\n",
       "      <td>0.855</td>\n",
       "      <td>1516.21</td>\n",
       "    </tr>\n",
       "  </tbody>\n",
       "</table>\n",
       "<p>5 rows × 44 columns</p>\n",
       "</div>"
      ],
      "text/plain": [
       "   cod_loja         cod_ap  cod_municipio  feature_03  feature_04  feature_06  \\\n",
       "0        10  2933307005008        2933307       False       50.00           6   \n",
       "1        13  2916401003002        2916401       False       41.00           4   \n",
       "2        16  2928703003003        2928703       False       42.12           2   \n",
       "3        21  2906006003001        2906006       False       30.00           6   \n",
       "4        28  3550308005058        3550308        True       44.31           8   \n",
       "\n",
       "   feature_07  feature_08   feature_09  feature_10  ...  FEATURE_11_VALUE_07  \\\n",
       "0    0.134654    0.131481   116.194058    2.913498  ...                    0   \n",
       "1    0.116662    0.114995    26.345742    1.312612  ...                    0   \n",
       "2    0.104162    0.087807    35.362788    1.969512  ...                    0   \n",
       "3    0.132954    0.131330     9.862757    1.383681  ...                    0   \n",
       "4    0.190102    0.179140  5593.905463    2.815883  ...                    0   \n",
       "\n",
       "   FEATURE_12_VALUE_01  FEATURE_12_VALUE_02          Espacialidades  \\\n",
       "0                    1                    0    Vitória da Conquista   \n",
       "1                    0                    0              Itapetinga   \n",
       "2                    0                    0  Santo Antônio de Jesus   \n",
       "3                    0                    0           Campo Formoso   \n",
       "4                    1                    0               São Paulo   \n",
       "\n",
       "   População total 2017     Código  IDHM 2010  IDHM Renda 2010  \\\n",
       "0                348718  2933307.0      0.678            0.681   \n",
       "1                 77533  2916401.0      0.667            0.667   \n",
       "2                103342  2928703.0      0.700            0.677   \n",
       "3                 73448  2906006.0      0.586            0.566   \n",
       "4              12106920  3550308.0      0.805            0.843   \n",
       "\n",
       "   IDHM Longevidade 2010  Renda per capita 2010  \n",
       "0                  0.788                 555.66  \n",
       "1                  0.790                 506.76  \n",
       "2                  0.815                 540.38  \n",
       "3                  0.749                 270.05  \n",
       "4                  0.855                1516.21  \n",
       "\n",
       "[5 rows x 44 columns]"
      ]
     },
     "execution_count": 189,
     "metadata": {},
     "output_type": "execute_result"
    }
   ],
   "source": [
    "metadata_cenarios = hot_encoded_cenarios.merge(metadata,how=\"left\",left_on=\"cod_municipio\",right_on=\"Código\")\n",
    "metadata_cenarios.head()"
   ]
  },
  {
   "cell_type": "code",
   "execution_count": 190,
   "metadata": {
    "id": "8nS9jotZ4nOY"
   },
   "outputs": [],
   "source": [
    "features = ['cod_municipio', 'feature_03', 'feature_04',\n",
    "       'feature_06', 'feature_07', 'feature_08', 'feature_09', 'feature_10',\n",
    "       'feature_13', 'feature_14', 'feature_15', 'feature_16', 'feature_17',\n",
    "       'feature_18', 'FEATURE_01_VALUE_03', 'FEATURE_01_VALUE_06',\n",
    "       'FEATURE_01_VALUE_08', 'FEATURE_01_VALUE_10', 'FEATURE_02_VALUE_02',\n",
    "       'FEATURE_02_VALUE_03', 'FEATURE_02_VALUE_04', 'FEATURE_02_VALUE_06',\n",
    "       'FEATURE_05_VALUE_01', 'FEATURE_05_VALUE_02', 'FEATURE_05_VALUE_03',\n",
    "       'FEATURE_05_VALUE_04', 'FEATURE_05_VALUE_05', 'FEATURE_05_VALUE_06',\n",
    "       'FEATURE_05_VALUE_07', 'FEATURE_11_VALUE_01',\n",
    "       'FEATURE_11_VALUE_02', 'FEATURE_11_VALUE_06', \n",
    "       'FEATURE_11_VALUE_07', 'FEATURE_12_VALUE_01', 'FEATURE_12_VALUE_02']\n",
    "X = metadata_cenarios[features]"
   ]
  },
  {
   "cell_type": "code",
   "execution_count": 191,
   "metadata": {
    "id": "32ea7QxkUvPZ"
   },
   "outputs": [],
   "source": [
    "sub = pd.DataFrame(columns=[\"cod_loja\",\"faturamento\",\"jan\",\"fev\",\"mar\"])"
   ]
  },
  {
   "cell_type": "code",
   "execution_count": 192,
   "metadata": {
    "id": "xNJ_4H1gVvpJ"
   },
   "outputs": [],
   "source": [
    "sub[\"cod_loja\"] = cenarios[\"cod_loja\"].values"
   ]
  },
  {
   "cell_type": "code",
   "execution_count": 193,
   "metadata": {
    "id": "ZSCUxwOm78xL"
   },
   "outputs": [],
   "source": [
    "sub[\"jan\"] = model_jan.predict(X)"
   ]
  },
  {
   "cell_type": "code",
   "execution_count": 194,
   "metadata": {
    "id": "ZQS7-35P9adF"
   },
   "outputs": [],
   "source": [
    "sub[\"fev\"] = model_fev.predict(X)"
   ]
  },
  {
   "cell_type": "code",
   "execution_count": 195,
   "metadata": {
    "id": "6-5wSzlVU48C"
   },
   "outputs": [],
   "source": [
    "sub[\"mar\"] = model_mar.predict(X)"
   ]
  },
  {
   "cell_type": "code",
   "execution_count": 196,
   "metadata": {
    "id": "uafUR_hDV3qH"
   },
   "outputs": [],
   "source": [
    "sub[\"faturamento\"] = (sub[\"jan\"].values + sub[\"fev\"].values + sub[\"mar\"].values)/3"
   ]
  },
  {
   "cell_type": "code",
   "execution_count": 197,
   "metadata": {
    "colab": {
     "base_uri": "https://localhost:8080/",
     "height": 204
    },
    "id": "jMFMxkr4V4Xn",
    "outputId": "bb723c1b-2510-4441-b2a2-3f6a7ce2b73a"
   },
   "outputs": [
    {
     "data": {
      "text/html": [
       "<div>\n",
       "<style scoped>\n",
       "    .dataframe tbody tr th:only-of-type {\n",
       "        vertical-align: middle;\n",
       "    }\n",
       "\n",
       "    .dataframe tbody tr th {\n",
       "        vertical-align: top;\n",
       "    }\n",
       "\n",
       "    .dataframe thead th {\n",
       "        text-align: right;\n",
       "    }\n",
       "</style>\n",
       "<table border=\"1\" class=\"dataframe\">\n",
       "  <thead>\n",
       "    <tr style=\"text-align: right;\">\n",
       "      <th></th>\n",
       "      <th>cod_loja</th>\n",
       "      <th>faturamento</th>\n",
       "      <th>jan</th>\n",
       "      <th>fev</th>\n",
       "      <th>mar</th>\n",
       "    </tr>\n",
       "  </thead>\n",
       "  <tbody>\n",
       "    <tr>\n",
       "      <th>0</th>\n",
       "      <td>10</td>\n",
       "      <td>153912.390625</td>\n",
       "      <td>157102.796875</td>\n",
       "      <td>131404.515625</td>\n",
       "      <td>173229.859375</td>\n",
       "    </tr>\n",
       "    <tr>\n",
       "      <th>1</th>\n",
       "      <td>13</td>\n",
       "      <td>104506.992188</td>\n",
       "      <td>100154.632812</td>\n",
       "      <td>92441.828125</td>\n",
       "      <td>120924.492188</td>\n",
       "    </tr>\n",
       "    <tr>\n",
       "      <th>2</th>\n",
       "      <td>16</td>\n",
       "      <td>76308.093750</td>\n",
       "      <td>89204.234375</td>\n",
       "      <td>59091.425781</td>\n",
       "      <td>80628.632812</td>\n",
       "    </tr>\n",
       "    <tr>\n",
       "      <th>3</th>\n",
       "      <td>21</td>\n",
       "      <td>86783.484375</td>\n",
       "      <td>96921.562500</td>\n",
       "      <td>70698.132812</td>\n",
       "      <td>92730.765625</td>\n",
       "    </tr>\n",
       "    <tr>\n",
       "      <th>4</th>\n",
       "      <td>28</td>\n",
       "      <td>138840.796875</td>\n",
       "      <td>133057.312500</td>\n",
       "      <td>130031.070312</td>\n",
       "      <td>153434.031250</td>\n",
       "    </tr>\n",
       "  </tbody>\n",
       "</table>\n",
       "</div>"
      ],
      "text/plain": [
       "   cod_loja    faturamento            jan            fev            mar\n",
       "0        10  153912.390625  157102.796875  131404.515625  173229.859375\n",
       "1        13  104506.992188  100154.632812   92441.828125  120924.492188\n",
       "2        16   76308.093750   89204.234375   59091.425781   80628.632812\n",
       "3        21   86783.484375   96921.562500   70698.132812   92730.765625\n",
       "4        28  138840.796875  133057.312500  130031.070312  153434.031250"
      ]
     },
     "execution_count": 197,
     "metadata": {},
     "output_type": "execute_result"
    }
   ],
   "source": [
    "sub.head()"
   ]
  },
  {
   "cell_type": "code",
   "execution_count": 198,
   "metadata": {
    "colab": {
     "base_uri": "https://localhost:8080/"
    },
    "id": "hR3Qd1SGWI-4",
    "outputId": "3ce86e31-7ebc-4452-c690-0c293072faef"
   },
   "outputs": [
    {
     "data": {
      "text/plain": [
       "53263616.0"
      ]
     },
     "execution_count": 198,
     "metadata": {},
     "output_type": "execute_result"
    }
   ],
   "source": [
    "sub[\"faturamento\"].sum()"
   ]
  },
  {
   "cell_type": "code",
   "execution_count": 199,
   "metadata": {
    "id": "2Oyp_JZTWOzQ"
   },
   "outputs": [],
   "source": [
    "sub.to_csv(\"./results/sub_2_v1.csv\")"
   ]
  },
  {
   "cell_type": "code",
   "execution_count": 200,
   "metadata": {
    "colab": {
     "base_uri": "https://localhost:8080/",
     "height": 204
    },
    "id": "1nCpziP3Wf-l",
    "outputId": "a6472ecf-faf6-47a3-cee4-0245154a6924"
   },
   "outputs": [
    {
     "data": {
      "text/html": [
       "<div>\n",
       "<style scoped>\n",
       "    .dataframe tbody tr th:only-of-type {\n",
       "        vertical-align: middle;\n",
       "    }\n",
       "\n",
       "    .dataframe tbody tr th {\n",
       "        vertical-align: top;\n",
       "    }\n",
       "\n",
       "    .dataframe thead th {\n",
       "        text-align: right;\n",
       "    }\n",
       "</style>\n",
       "<table border=\"1\" class=\"dataframe\">\n",
       "  <thead>\n",
       "    <tr style=\"text-align: right;\">\n",
       "      <th></th>\n",
       "      <th>cod_loja</th>\n",
       "      <th>faturamento</th>\n",
       "    </tr>\n",
       "  </thead>\n",
       "  <tbody>\n",
       "    <tr>\n",
       "      <th>0</th>\n",
       "      <td>10</td>\n",
       "      <td>153912.390625</td>\n",
       "    </tr>\n",
       "    <tr>\n",
       "      <th>1</th>\n",
       "      <td>13</td>\n",
       "      <td>104506.992188</td>\n",
       "    </tr>\n",
       "    <tr>\n",
       "      <th>2</th>\n",
       "      <td>16</td>\n",
       "      <td>76308.093750</td>\n",
       "    </tr>\n",
       "    <tr>\n",
       "      <th>3</th>\n",
       "      <td>21</td>\n",
       "      <td>86783.484375</td>\n",
       "    </tr>\n",
       "    <tr>\n",
       "      <th>4</th>\n",
       "      <td>28</td>\n",
       "      <td>138840.796875</td>\n",
       "    </tr>\n",
       "  </tbody>\n",
       "</table>\n",
       "</div>"
      ],
      "text/plain": [
       "   cod_loja    faturamento\n",
       "0        10  153912.390625\n",
       "1        13  104506.992188\n",
       "2        16   76308.093750\n",
       "3        21   86783.484375\n",
       "4        28  138840.796875"
      ]
     },
     "execution_count": 200,
     "metadata": {},
     "output_type": "execute_result"
    }
   ],
   "source": [
    "desafio_2 = sub[[\"cod_loja\",\"faturamento\"]]\n",
    "desafio_2.head()"
   ]
  },
  {
   "cell_type": "code",
   "execution_count": 201,
   "metadata": {
    "id": "5DKZ8OcLWobK"
   },
   "outputs": [],
   "source": [
    "desafio_2.to_csv(\"./results/desafio_2_v1.csv\",index=False,sep=\";\")"
   ]
  },
  {
   "cell_type": "code",
   "execution_count": 202,
   "metadata": {
    "colab": {
     "base_uri": "https://localhost:8080/"
    },
    "id": "Gy1M2hAlWtEi",
    "outputId": "d1241535-3b18-4f11-becc-55909baa5390"
   },
   "outputs": [
    {
     "data": {
      "text/plain": [
       "(553, 2)"
      ]
     },
     "execution_count": 202,
     "metadata": {},
     "output_type": "execute_result"
    }
   ],
   "source": [
    "desafio_2.shape"
   ]
  },
  {
   "cell_type": "markdown",
   "metadata": {
    "id": "mv5dVue63QaG"
   },
   "source": [
    "### Usando dados de População"
   ]
  },
  {
   "cell_type": "code",
   "execution_count": 203,
   "metadata": {},
   "outputs": [],
   "source": [
    "removed_nan = data.dropna(0,subset=[\"2017_1\"])"
   ]
  },
  {
   "cell_type": "code",
   "execution_count": 204,
   "metadata": {},
   "outputs": [],
   "source": [
    "features = ['cod_municipio', 'feature_03', 'feature_04',\n",
    "       'feature_06', 'feature_07', 'feature_08', 'feature_09', 'feature_10',\n",
    "       'feature_13', 'feature_14', 'feature_15', 'feature_16', 'feature_17',\n",
    "       'feature_18', 'FEATURE_01_VALUE_03', 'FEATURE_01_VALUE_06',\n",
    "       'FEATURE_01_VALUE_08', 'FEATURE_01_VALUE_10', 'FEATURE_02_VALUE_02',\n",
    "       'FEATURE_02_VALUE_03', 'FEATURE_02_VALUE_04', 'FEATURE_02_VALUE_06',\n",
    "       'FEATURE_05_VALUE_01', 'FEATURE_05_VALUE_02', 'FEATURE_05_VALUE_03',\n",
    "       'FEATURE_05_VALUE_04', 'FEATURE_05_VALUE_05', 'FEATURE_05_VALUE_06',\n",
    "       'FEATURE_05_VALUE_07', 'FEATURE_11_VALUE_01',\n",
    "       'FEATURE_11_VALUE_02', 'FEATURE_11_VALUE_06', \n",
    "       'FEATURE_11_VALUE_07', 'FEATURE_12_VALUE_01', 'FEATURE_12_VALUE_02',\n",
    "        'População total 2017']\n",
    "X = removed_nan[features]\n",
    "target = ['2017_1']\n",
    "Y = removed_nan[target]"
   ]
  },
  {
   "cell_type": "code",
   "execution_count": 205,
   "metadata": {},
   "outputs": [],
   "source": [
    "seed = 7\n",
    "test_size = 0.33\n",
    "X_train, X_test, y_train, y_test = train_test_split(X, Y, test_size=test_size, random_state=seed)"
   ]
  },
  {
   "cell_type": "code",
   "execution_count": 206,
   "metadata": {},
   "outputs": [],
   "source": [
    "model_jan = xgboost.XGBRegressor(objective=\"reg:squarederror\", random_state=42)"
   ]
  },
  {
   "cell_type": "code",
   "execution_count": 207,
   "metadata": {},
   "outputs": [
    {
     "name": "stdout",
     "output_type": "stream",
     "text": [
      "Scores: [209.89750833 204.7311584  212.31477568 208.7115208  209.41447606]\n",
      "Mean: 209.01388785517256\n",
      "Standard deviation: 2.4605005138075198\n"
     ]
    }
   ],
   "source": [
    "score = cross_val_score(model_jan, X_train, y_train, scoring=\"neg_root_mean_squared_error\", cv=5)\n",
    "display_scores(np.sqrt(-score))"
   ]
  },
  {
   "cell_type": "code",
   "execution_count": 208,
   "metadata": {},
   "outputs": [
    {
     "data": {
      "text/plain": [
       "1669822217.8894515"
      ]
     },
     "execution_count": 208,
     "metadata": {},
     "output_type": "execute_result"
    }
   ],
   "source": [
    "model_jan = model_jan.fit(X_train, y_train)\n",
    "y_pred = model_jan.predict(X_test)\n",
    "mean_squared_error(y_test,y_pred)"
   ]
  },
  {
   "cell_type": "code",
   "execution_count": 209,
   "metadata": {},
   "outputs": [
    {
     "data": {
      "image/png": "[encoded data removed]",
      "text/plain": [
       "<Figure size 1080x1080 with 1 Axes>"
      ]
     },
     "metadata": {},
     "output_type": "display_data"
    }
   ],
   "source": [
    "# plot feature importance\n",
    "fig, ax = plt.subplots(1,1,figsize=(15,15))\n",
    "plot_importance(model_jan, ax=ax)\n",
    "plt.show()"
   ]
  },
  {
   "cell_type": "code",
   "execution_count": 210,
   "metadata": {},
   "outputs": [],
   "source": [
    "removed_nan = data.dropna(0,subset=[\"2017_2\"])"
   ]
  },
  {
   "cell_type": "code",
   "execution_count": 211,
   "metadata": {},
   "outputs": [],
   "source": [
    "features = ['cod_municipio', 'feature_03', 'feature_04',\n",
    "       'feature_06', 'feature_07', 'feature_08', 'feature_09', 'feature_10',\n",
    "       'feature_13', 'feature_14', 'feature_15', 'feature_16', 'feature_17',\n",
    "       'feature_18', 'FEATURE_01_VALUE_03', 'FEATURE_01_VALUE_06',\n",
    "       'FEATURE_01_VALUE_08', 'FEATURE_01_VALUE_10', 'FEATURE_02_VALUE_02',\n",
    "       'FEATURE_02_VALUE_03', 'FEATURE_02_VALUE_04', 'FEATURE_02_VALUE_06',\n",
    "       'FEATURE_05_VALUE_01', 'FEATURE_05_VALUE_02', 'FEATURE_05_VALUE_03',\n",
    "       'FEATURE_05_VALUE_04', 'FEATURE_05_VALUE_05', 'FEATURE_05_VALUE_06',\n",
    "       'FEATURE_05_VALUE_07', 'FEATURE_11_VALUE_01',\n",
    "       'FEATURE_11_VALUE_02', 'FEATURE_11_VALUE_06', \n",
    "       'FEATURE_11_VALUE_07', 'FEATURE_12_VALUE_01', 'FEATURE_12_VALUE_02',\n",
    "        'População total 2017']\n",
    "X = removed_nan[features]\n",
    "target = ['2017_2']\n",
    "Y = removed_nan[target]"
   ]
  },
  {
   "cell_type": "code",
   "execution_count": 212,
   "metadata": {},
   "outputs": [],
   "source": [
    "seed = 7\n",
    "test_size = 0.33\n",
    "X_train, X_test, y_train, y_test = train_test_split(X, Y, test_size=test_size, random_state=seed)"
   ]
  },
  {
   "cell_type": "code",
   "execution_count": 213,
   "metadata": {},
   "outputs": [],
   "source": [
    "model_fev = xgboost.XGBRegressor(objective=\"reg:squarederror\", random_state=42)"
   ]
  },
  {
   "cell_type": "code",
   "execution_count": 214,
   "metadata": {},
   "outputs": [
    {
     "name": "stdout",
     "output_type": "stream",
     "text": [
      "Scores: [194.93927474 189.18300344 187.73439902 191.25725447 186.45765256]\n",
      "Mean: 189.91431684462341\n",
      "Standard deviation: 2.97620806977774\n"
     ]
    }
   ],
   "source": [
    "score = cross_val_score(model_fev, X_train, y_train, scoring=\"neg_root_mean_squared_error\", cv=5)\n",
    "display_scores(np.sqrt(-score))"
   ]
  },
  {
   "cell_type": "code",
   "execution_count": 215,
   "metadata": {},
   "outputs": [
    {
     "data": {
      "text/plain": [
       "1316782751.9076555"
      ]
     },
     "execution_count": 215,
     "metadata": {},
     "output_type": "execute_result"
    }
   ],
   "source": [
    "model_jan = model_fev.fit(X_train, y_train)\n",
    "y_pred = model_fev.predict(X_test)\n",
    "mean_squared_error(y_test,y_pred)"
   ]
  },
  {
   "cell_type": "code",
   "execution_count": 216,
   "metadata": {},
   "outputs": [
    {
     "data": {
      "image/png": "[encoded data removed]",
      "text/plain": [
       "<Figure size 1080x1080 with 1 Axes>"
      ]
     },
     "metadata": {},
     "output_type": "display_data"
    }
   ],
   "source": [
    "# plot feature importance\n",
    "fig, ax = plt.subplots(1,1,figsize=(15,15))\n",
    "plot_importance(model_fev, ax=ax)\n",
    "plt.show()"
   ]
  },
  {
   "cell_type": "code",
   "execution_count": 217,
   "metadata": {},
   "outputs": [],
   "source": [
    "removed_nan = data.dropna(0,subset=[\"2017_3\"])"
   ]
  },
  {
   "cell_type": "code",
   "execution_count": 218,
   "metadata": {},
   "outputs": [],
   "source": [
    "features = ['cod_municipio', 'feature_03', 'feature_04',\n",
    "       'feature_06', 'feature_07', 'feature_08', 'feature_09', 'feature_10',\n",
    "       'feature_13', 'feature_14', 'feature_15', 'feature_16', 'feature_17',\n",
    "       'feature_18', 'FEATURE_01_VALUE_03', 'FEATURE_01_VALUE_06',\n",
    "       'FEATURE_01_VALUE_08', 'FEATURE_01_VALUE_10', 'FEATURE_02_VALUE_02',\n",
    "       'FEATURE_02_VALUE_03', 'FEATURE_02_VALUE_04', 'FEATURE_02_VALUE_06',\n",
    "       'FEATURE_05_VALUE_01', 'FEATURE_05_VALUE_02', 'FEATURE_05_VALUE_03',\n",
    "       'FEATURE_05_VALUE_04', 'FEATURE_05_VALUE_05', 'FEATURE_05_VALUE_06',\n",
    "       'FEATURE_05_VALUE_07', 'FEATURE_11_VALUE_01',\n",
    "       'FEATURE_11_VALUE_02', 'FEATURE_11_VALUE_06', \n",
    "       'FEATURE_11_VALUE_07', 'FEATURE_12_VALUE_01', 'FEATURE_12_VALUE_02',\n",
    "        'População total 2017']\n",
    "X = removed_nan[features]\n",
    "target = ['2017_3']\n",
    "Y = removed_nan[target]"
   ]
  },
  {
   "cell_type": "code",
   "execution_count": 219,
   "metadata": {},
   "outputs": [],
   "source": [
    "seed = 7\n",
    "test_size = 0.33\n",
    "X_train, X_test, y_train, y_test = train_test_split(X, Y, test_size=test_size, random_state=seed)"
   ]
  },
  {
   "cell_type": "code",
   "execution_count": 220,
   "metadata": {},
   "outputs": [],
   "source": [
    "model_mar = xgboost.XGBRegressor(objective=\"reg:squarederror\", random_state=42)"
   ]
  },
  {
   "cell_type": "code",
   "execution_count": 221,
   "metadata": {},
   "outputs": [
    {
     "name": "stdout",
     "output_type": "stream",
     "text": [
      "Scores: [217.5006285  200.97533543 206.96752308 210.49169379 207.14990389]\n",
      "Mean: 208.61701693804343\n",
      "Standard deviation: 5.3981758872947685\n"
     ]
    }
   ],
   "source": [
    "score = cross_val_score(model_mar, X_train, y_train, scoring=\"neg_root_mean_squared_error\", cv=5)\n",
    "display_scores(np.sqrt(-score))"
   ]
  },
  {
   "cell_type": "code",
   "execution_count": 222,
   "metadata": {},
   "outputs": [
    {
     "data": {
      "text/plain": [
       "1770674904.4219131"
      ]
     },
     "execution_count": 222,
     "metadata": {},
     "output_type": "execute_result"
    }
   ],
   "source": [
    "model_mar = model_mar.fit(X_train, y_train)\n",
    "y_pred = model_mar.predict(X_test)\n",
    "mean_squared_error(y_test,y_pred)"
   ]
  },
  {
   "cell_type": "code",
   "execution_count": 223,
   "metadata": {},
   "outputs": [
    {
     "data": {
      "image/png": "[encoded data removed]",
      "text/plain": [
       "<Figure size 1080x1080 with 1 Axes>"
      ]
     },
     "metadata": {},
     "output_type": "display_data"
    }
   ],
   "source": [
    "# plot feature importance\n",
    "fig, ax = plt.subplots(1,1,figsize=(15,15))\n",
    "plot_importance(model_mar, ax=ax)\n",
    "plt.show()"
   ]
  },
  {
   "cell_type": "markdown",
   "metadata": {},
   "source": [
    "#### Criando a submissão"
   ]
  },
  {
   "cell_type": "code",
   "execution_count": 224,
   "metadata": {},
   "outputs": [],
   "source": [
    "features = ['cod_municipio', 'feature_03', 'feature_04',\n",
    "       'feature_06', 'feature_07', 'feature_08', 'feature_09', 'feature_10',\n",
    "       'feature_13', 'feature_14', 'feature_15', 'feature_16', 'feature_17',\n",
    "       'feature_18', 'FEATURE_01_VALUE_03', 'FEATURE_01_VALUE_06',\n",
    "       'FEATURE_01_VALUE_08', 'FEATURE_01_VALUE_10', 'FEATURE_02_VALUE_02',\n",
    "       'FEATURE_02_VALUE_03', 'FEATURE_02_VALUE_04', 'FEATURE_02_VALUE_06',\n",
    "       'FEATURE_05_VALUE_01', 'FEATURE_05_VALUE_02', 'FEATURE_05_VALUE_03',\n",
    "       'FEATURE_05_VALUE_04', 'FEATURE_05_VALUE_05', 'FEATURE_05_VALUE_06',\n",
    "       'FEATURE_05_VALUE_07', 'FEATURE_11_VALUE_01',\n",
    "       'FEATURE_11_VALUE_02', 'FEATURE_11_VALUE_06', \n",
    "       'FEATURE_11_VALUE_07', 'FEATURE_12_VALUE_01', 'FEATURE_12_VALUE_02','População total 2017']\n",
    "X = metadata_cenarios[features]"
   ]
  },
  {
   "cell_type": "code",
   "execution_count": 225,
   "metadata": {},
   "outputs": [
    {
     "name": "stderr",
     "output_type": "stream",
     "text": [
      "/home/felipemarcelino/.conda/envs/hackaton_big_data/lib/python3.7/site-packages/ipykernel_launcher.py:1: SettingWithCopyWarning: \n",
      "A value is trying to be set on a copy of a slice from a DataFrame.\n",
      "Try using .loc[row_indexer,col_indexer] = value instead\n",
      "\n",
      "See the caveats in the documentation: https://pandas.pydata.org/pandas-docs/stable/user_guide/indexing.html#returning-a-view-versus-a-copy\n",
      "  \"\"\"Entry point for launching an IPython kernel.\n"
     ]
    }
   ],
   "source": [
    "X[\"População total 2017\"] = X[\"População total 2017\"].astype(float)"
   ]
  },
  {
   "cell_type": "code",
   "execution_count": 226,
   "metadata": {},
   "outputs": [],
   "source": [
    "sub = pd.DataFrame(columns=[\"cod_loja\",\"faturamento\",\"jan\",\"fev\",\"mar\"])\n",
    "sub[\"cod_loja\"] = cenarios[\"cod_loja\"].values\n",
    "sub[\"jan\"] = model_jan.predict(X)\n",
    "sub[\"fev\"] = model_fev.predict(X)\n",
    "sub[\"mar\"] = model_mar.predict(X)\n",
    "sub[\"faturamento\"] = (sub[\"jan\"].values + sub[\"fev\"].values + sub[\"mar\"].values)/3\n",
    "sub[\"faturamento\"].sum()\n",
    "sub.to_csv(\"./results/sub_2_v2.csv\")\n",
    "desafio_2 = sub[[\"cod_loja\",\"faturamento\"]]\n",
    "desafio_2.head()\n",
    "desafio_2.to_csv(\"./results/desafio_2_v2.csv\",index=False,sep=\";\")\n"
   ]
  },
  {
   "cell_type": "markdown",
   "metadata": {},
   "source": [
    "### Usando os dados de IDH e População"
   ]
  },
  {
   "cell_type": "code",
   "execution_count": 227,
   "metadata": {},
   "outputs": [],
   "source": [
    "removed_nan = data.dropna(0,subset=[\"2017_1\"])"
   ]
  },
  {
   "cell_type": "code",
   "execution_count": 228,
   "metadata": {},
   "outputs": [],
   "source": [
    "features = ['cod_municipio', 'feature_03', 'feature_04',\n",
    "       'feature_06', 'feature_07', 'feature_08', 'feature_09', 'feature_10',\n",
    "       'feature_13', 'feature_14', 'feature_15', 'feature_16', 'feature_17',\n",
    "       'feature_18', 'FEATURE_01_VALUE_03', 'FEATURE_01_VALUE_06',\n",
    "       'FEATURE_01_VALUE_08', 'FEATURE_01_VALUE_10', 'FEATURE_02_VALUE_02',\n",
    "       'FEATURE_02_VALUE_03', 'FEATURE_02_VALUE_04', 'FEATURE_02_VALUE_06',\n",
    "       'FEATURE_05_VALUE_01', 'FEATURE_05_VALUE_02', 'FEATURE_05_VALUE_03',\n",
    "       'FEATURE_05_VALUE_04', 'FEATURE_05_VALUE_05', 'FEATURE_05_VALUE_06',\n",
    "       'FEATURE_05_VALUE_07', 'FEATURE_11_VALUE_01',\n",
    "       'FEATURE_11_VALUE_02', 'FEATURE_11_VALUE_06', \n",
    "       'FEATURE_11_VALUE_07', 'FEATURE_12_VALUE_01', 'FEATURE_12_VALUE_02',\n",
    "        'População total 2017','IDHM 2010','IDHM Renda 2010','IDHM Longevidade 2010',\n",
    "        'Renda per capita 2010']\n",
    "X = removed_nan[features]\n",
    "target = ['2017_1']\n",
    "Y = removed_nan[target]"
   ]
  },
  {
   "cell_type": "code",
   "execution_count": 229,
   "metadata": {},
   "outputs": [],
   "source": [
    "seed = 7\n",
    "test_size = 0.33\n",
    "X_train, X_test, y_train, y_test = train_test_split(X, Y, test_size=test_size, random_state=seed)"
   ]
  },
  {
   "cell_type": "code",
   "execution_count": 230,
   "metadata": {},
   "outputs": [],
   "source": [
    "model_jan = xgboost.XGBRegressor(objective=\"reg:squarederror\", random_state=42)"
   ]
  },
  {
   "cell_type": "code",
   "execution_count": 231,
   "metadata": {},
   "outputs": [
    {
     "name": "stdout",
     "output_type": "stream",
     "text": [
      "Scores: [210.970093   205.17816397 210.73868994 207.70658856 209.65553497]\n",
      "Mean: 208.84981408818658\n",
      "Standard deviation: 2.1679760134676442\n"
     ]
    }
   ],
   "source": [
    "score = cross_val_score(model_jan, X_train, y_train, scoring=\"neg_root_mean_squared_error\", cv=5)\n",
    "display_scores(np.sqrt(-score))"
   ]
  },
  {
   "cell_type": "code",
   "execution_count": 232,
   "metadata": {},
   "outputs": [
    {
     "data": {
      "text/plain": [
       "1651296854.322644"
      ]
     },
     "execution_count": 232,
     "metadata": {},
     "output_type": "execute_result"
    }
   ],
   "source": [
    "model_mar = model_jan.fit(X_train, y_train)\n",
    "y_pred = model_jan.predict(X_test)\n",
    "mean_squared_error(y_test,y_pred)"
   ]
  },
  {
   "cell_type": "code",
   "execution_count": 233,
   "metadata": {},
   "outputs": [
    {
     "data": {
      "image/png": "[encoded data removed]",
      "text/plain": [
       "<Figure size 1080x1080 with 1 Axes>"
      ]
     },
     "metadata": {},
     "output_type": "display_data"
    }
   ],
   "source": [
    "# plot feature importance\n",
    "fig, ax = plt.subplots(1,1,figsize=(15,15))\n",
    "plot_importance(model_jan, ax=ax)\n",
    "plt.show()"
   ]
  },
  {
   "cell_type": "code",
   "execution_count": 234,
   "metadata": {},
   "outputs": [],
   "source": [
    "removed_nan = data.dropna(0,subset=[\"2017_2\"])"
   ]
  },
  {
   "cell_type": "code",
   "execution_count": 235,
   "metadata": {},
   "outputs": [],
   "source": [
    "features = ['cod_municipio', 'feature_03', 'feature_04',\n",
    "       'feature_06', 'feature_07', 'feature_08', 'feature_09', 'feature_10',\n",
    "       'feature_13', 'feature_14', 'feature_15', 'feature_16', 'feature_17',\n",
    "       'feature_18', 'FEATURE_01_VALUE_03', 'FEATURE_01_VALUE_06',\n",
    "       'FEATURE_01_VALUE_08', 'FEATURE_01_VALUE_10', 'FEATURE_02_VALUE_02',\n",
    "       'FEATURE_02_VALUE_03', 'FEATURE_02_VALUE_04', 'FEATURE_02_VALUE_06',\n",
    "       'FEATURE_05_VALUE_01', 'FEATURE_05_VALUE_02', 'FEATURE_05_VALUE_03',\n",
    "       'FEATURE_05_VALUE_04', 'FEATURE_05_VALUE_05', 'FEATURE_05_VALUE_06',\n",
    "       'FEATURE_05_VALUE_07', 'FEATURE_11_VALUE_01',\n",
    "       'FEATURE_11_VALUE_02', 'FEATURE_11_VALUE_06', \n",
    "       'FEATURE_11_VALUE_07', 'FEATURE_12_VALUE_01', 'FEATURE_12_VALUE_02',\n",
    "        'População total 2017','IDHM 2010','IDHM Renda 2010','IDHM Longevidade 2010',\n",
    "        'Renda per capita 2010']\n",
    "X = removed_nan[features]\n",
    "target = ['2017_2']\n",
    "Y = removed_nan[target]"
   ]
  },
  {
   "cell_type": "code",
   "execution_count": 236,
   "metadata": {},
   "outputs": [
    {
     "name": "stderr",
     "output_type": "stream",
     "text": [
      "/home/felipemarcelino/.conda/envs/hackaton_big_data/lib/python3.7/site-packages/ipykernel_launcher.py:1: SettingWithCopyWarning: \n",
      "A value is trying to be set on a copy of a slice from a DataFrame.\n",
      "Try using .loc[row_indexer,col_indexer] = value instead\n",
      "\n",
      "See the caveats in the documentation: https://pandas.pydata.org/pandas-docs/stable/user_guide/indexing.html#returning-a-view-versus-a-copy\n",
      "  \"\"\"Entry point for launching an IPython kernel.\n"
     ]
    }
   ],
   "source": [
    "X[\"População total 2017\"] = X[\"População total 2017\"].astype(float)"
   ]
  },
  {
   "cell_type": "code",
   "execution_count": 237,
   "metadata": {},
   "outputs": [],
   "source": [
    "seed = 7\n",
    "test_size = 0.33\n",
    "X_train, X_test, y_train, y_test = train_test_split(X, Y, test_size=test_size, random_state=seed)"
   ]
  },
  {
   "cell_type": "code",
   "execution_count": 238,
   "metadata": {},
   "outputs": [],
   "source": [
    "model_fev = xgboost.XGBRegressor(objective=\"reg:squarederror\", random_state=42)"
   ]
  },
  {
   "cell_type": "code",
   "execution_count": 239,
   "metadata": {},
   "outputs": [
    {
     "name": "stdout",
     "output_type": "stream",
     "text": [
      "Scores: [194.31488457 191.12979431 186.92021223 189.46693779 185.88156983]\n",
      "Mean: 189.54267974548694\n",
      "Standard deviation: 3.0192605054284916\n"
     ]
    }
   ],
   "source": [
    "score = cross_val_score(model_fev, X_train, y_train, scoring=\"neg_root_mean_squared_error\", cv=5)\n",
    "display_scores(np.sqrt(-score))"
   ]
  },
  {
   "cell_type": "code",
   "execution_count": 240,
   "metadata": {},
   "outputs": [
    {
     "data": {
      "text/plain": [
       "1323600494.1822453"
      ]
     },
     "execution_count": 240,
     "metadata": {},
     "output_type": "execute_result"
    }
   ],
   "source": [
    "model_mar = model_fev.fit(X_train, y_train)\n",
    "y_pred = model_fev.predict(X_test)\n",
    "mean_squared_error(y_test,y_pred)"
   ]
  },
  {
   "cell_type": "code",
   "execution_count": 241,
   "metadata": {},
   "outputs": [
    {
     "data": {
      "image/png": "[encoded data removed]",
      "text/plain": [
       "<Figure size 1080x1080 with 1 Axes>"
      ]
     },
     "metadata": {},
     "output_type": "display_data"
    }
   ],
   "source": [
    "# plot feature importance\n",
    "fig, ax = plt.subplots(1,1,figsize=(15,15))\n",
    "plot_importance(model_fev, ax=ax)\n",
    "plt.show()"
   ]
  },
  {
   "cell_type": "code",
   "execution_count": 242,
   "metadata": {},
   "outputs": [],
   "source": [
    "removed_nan = data.dropna(0,subset=[\"2017_3\"])"
   ]
  },
  {
   "cell_type": "code",
   "execution_count": 243,
   "metadata": {},
   "outputs": [],
   "source": [
    "features = ['cod_municipio', 'feature_03', 'feature_04',\n",
    "       'feature_06', 'feature_07', 'feature_08', 'feature_09', 'feature_10',\n",
    "       'feature_13', 'feature_14', 'feature_15', 'feature_16', 'feature_17',\n",
    "       'feature_18', 'FEATURE_01_VALUE_03', 'FEATURE_01_VALUE_06',\n",
    "       'FEATURE_01_VALUE_08', 'FEATURE_01_VALUE_10', 'FEATURE_02_VALUE_02',\n",
    "       'FEATURE_02_VALUE_03', 'FEATURE_02_VALUE_04', 'FEATURE_02_VALUE_06',\n",
    "       'FEATURE_05_VALUE_01', 'FEATURE_05_VALUE_02', 'FEATURE_05_VALUE_03',\n",
    "       'FEATURE_05_VALUE_04', 'FEATURE_05_VALUE_05', 'FEATURE_05_VALUE_06',\n",
    "       'FEATURE_05_VALUE_07', 'FEATURE_11_VALUE_01',\n",
    "       'FEATURE_11_VALUE_02', 'FEATURE_11_VALUE_06', \n",
    "       'FEATURE_11_VALUE_07', 'FEATURE_12_VALUE_01', 'FEATURE_12_VALUE_02',\n",
    "        'População total 2017','IDHM 2010','IDHM Renda 2010','IDHM Longevidade 2010',\n",
    "        'Renda per capita 2010']\n",
    "X = removed_nan[features]\n",
    "target = ['2017_3']\n",
    "Y = removed_nan[target]"
   ]
  },
  {
   "cell_type": "code",
   "execution_count": 244,
   "metadata": {},
   "outputs": [],
   "source": [
    "seed = 7\n",
    "test_size = 0.33\n",
    "X_train, X_test, y_train, y_test = train_test_split(X, Y, test_size=test_size, random_state=seed)"
   ]
  },
  {
   "cell_type": "code",
   "execution_count": 245,
   "metadata": {},
   "outputs": [],
   "source": [
    "model_mar = xgboost.XGBRegressor(objective=\"reg:squarederror\", random_state=42)"
   ]
  },
  {
   "cell_type": "code",
   "execution_count": 246,
   "metadata": {},
   "outputs": [
    {
     "name": "stdout",
     "output_type": "stream",
     "text": [
      "Scores: [216.18045928 202.70681549 207.08467356 210.32885964 208.48896874]\n",
      "Mean: 208.95795534265926\n",
      "Standard deviation: 4.401132223308891\n"
     ]
    }
   ],
   "source": [
    "score = cross_val_score(model_mar, X_train, y_train, scoring=\"neg_root_mean_squared_error\", cv=5)\n",
    "display_scores(np.sqrt(-score))"
   ]
  },
  {
   "cell_type": "code",
   "execution_count": 247,
   "metadata": {},
   "outputs": [
    {
     "data": {
      "text/plain": [
       "1774719891.0740142"
      ]
     },
     "execution_count": 247,
     "metadata": {},
     "output_type": "execute_result"
    }
   ],
   "source": [
    "model_mar = model_mar.fit(X_train, y_train)\n",
    "y_pred = model_mar.predict(X_test)\n",
    "mean_squared_error(y_test,y_pred)"
   ]
  },
  {
   "cell_type": "code",
   "execution_count": 248,
   "metadata": {},
   "outputs": [
    {
     "data": {
      "image/png": "[encoded data removed]",
      "text/plain": [
       "<Figure size 1080x1080 with 1 Axes>"
      ]
     },
     "metadata": {},
     "output_type": "display_data"
    }
   ],
   "source": [
    "# plot feature importance\n",
    "fig, ax = plt.subplots(1,1,figsize=(15,15))\n",
    "plot_importance(model_mar, ax=ax)\n",
    "plt.show()"
   ]
  },
  {
   "cell_type": "markdown",
   "metadata": {},
   "source": [
    "#### Criando submissão"
   ]
  },
  {
   "cell_type": "code",
   "execution_count": 249,
   "metadata": {},
   "outputs": [],
   "source": [
    "features = ['cod_municipio', 'feature_03', 'feature_04',\n",
    "       'feature_06', 'feature_07', 'feature_08', 'feature_09', 'feature_10',\n",
    "       'feature_13', 'feature_14', 'feature_15', 'feature_16', 'feature_17',\n",
    "       'feature_18', 'FEATURE_01_VALUE_03', 'FEATURE_01_VALUE_06',\n",
    "       'FEATURE_01_VALUE_08', 'FEATURE_01_VALUE_10', 'FEATURE_02_VALUE_02',\n",
    "       'FEATURE_02_VALUE_03', 'FEATURE_02_VALUE_04', 'FEATURE_02_VALUE_06',\n",
    "       'FEATURE_05_VALUE_01', 'FEATURE_05_VALUE_02', 'FEATURE_05_VALUE_03',\n",
    "       'FEATURE_05_VALUE_04', 'FEATURE_05_VALUE_05', 'FEATURE_05_VALUE_06',\n",
    "       'FEATURE_05_VALUE_07', 'FEATURE_11_VALUE_01',\n",
    "       'FEATURE_11_VALUE_02', 'FEATURE_11_VALUE_06', \n",
    "       'FEATURE_11_VALUE_07', 'FEATURE_12_VALUE_01', 'FEATURE_12_VALUE_02',\n",
    "        'População total 2017','IDHM 2010','IDHM Renda 2010','IDHM Longevidade 2010',\n",
    "        'Renda per capita 2010']\n",
    "X = metadata_cenarios[features]"
   ]
  },
  {
   "cell_type": "code",
   "execution_count": 250,
   "metadata": {},
   "outputs": [
    {
     "name": "stderr",
     "output_type": "stream",
     "text": [
      "/home/felipemarcelino/.conda/envs/hackaton_big_data/lib/python3.7/site-packages/ipykernel_launcher.py:1: SettingWithCopyWarning: \n",
      "A value is trying to be set on a copy of a slice from a DataFrame.\n",
      "Try using .loc[row_indexer,col_indexer] = value instead\n",
      "\n",
      "See the caveats in the documentation: https://pandas.pydata.org/pandas-docs/stable/user_guide/indexing.html#returning-a-view-versus-a-copy\n",
      "  \"\"\"Entry point for launching an IPython kernel.\n"
     ]
    }
   ],
   "source": [
    "X[\"População total 2017\"] = X[\"População total 2017\"].astype(float)"
   ]
  },
  {
   "cell_type": "code",
   "execution_count": 251,
   "metadata": {},
   "outputs": [],
   "source": [
    "sub = pd.DataFrame(columns=[\"cod_loja\",\"faturamento\",\"jan\",\"fev\",\"mar\"])\n",
    "sub[\"cod_loja\"] = cenarios[\"cod_loja\"].values\n",
    "sub[\"jan\"] = model_jan.predict(X)\n",
    "sub[\"fev\"] = model_fev.predict(X)\n",
    "sub[\"mar\"] = model_mar.predict(X)\n",
    "sub[\"faturamento\"] = (sub[\"jan\"].values + sub[\"fev\"].values + sub[\"mar\"].values)/3\n",
    "sub[\"faturamento\"].sum()\n",
    "sub.to_csv(\"./results/sub_2_v3.csv\")\n",
    "desafio_2 = sub[[\"cod_loja\",\"faturamento\"]]\n",
    "desafio_2.head()\n",
    "desafio_2.to_csv(\"./results/desafio_2_v3.csv\",index=False,sep=\";\")\n"
   ]
  },
  {
   "cell_type": "markdown",
   "metadata": {},
   "source": [
    "## Conclusão\n",
    "\n",
    "As feature_06, feature_04 e feature_09 dos metadados tiveram destaca nesse modelo. Em alguns modelos a feature contendo o total da população de 2017 se destacou, e como no modelo anterior, as features contendo IDHM e PIB tiveram relevância média dentro da modelagem. "
   ]
  },
  {
   "cell_type": "code",
   "execution_count": null,
   "metadata": {},
   "outputs": [],
   "source": []
  }
 ],
 "metadata": {
  "colab": {
   "name": "hackaton_2.ipynb",
   "provenance": []
  },
  "kernelspec": {
   "display_name": "Python 3",
   "language": "python",
   "name": "python3"
  },
  "language_info": {
   "codemirror_mode": {
    "name": "ipython",
    "version": 3
   },
   "file_extension": ".py",
   "mimetype": "text/x-python",
   "name": "python",
   "nbconvert_exporter": "python",
   "pygments_lexer": "ipython3",
   "version": "3.7.9"
  }
 },
 "nbformat": 4,
 "nbformat_minor": 1
}
